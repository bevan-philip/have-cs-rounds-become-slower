{
 "cells": [
  {
   "cell_type": "code",
   "execution_count": 174,
   "metadata": {},
   "outputs": [],
   "source": [
    "import pandas as pd\n",
    "import numpy as np\n",
    "import matplotlib.pyplot as plt\n",
    "import sqlite3\n",
    "\n",
    "# Ingesting data\n",
    "con = sqlite3.connect(\"csgo.db\")\n",
    "csgo_df = pd.read_sql_query(\"SELECT * FROM round INNER JOIN game WHERE round.game_id = game.id\", con, parse_dates=[\"time\"])\n",
    "players_df = pd.read_sql_query(\"SELECT * from players\", con)\n",
    "csgo_df['time'] = pd.to_datetime(csgo_df['time'], utc=True)\n",
    "\n",
    "# Some Pandas visual display options to read the data\n",
    "pd.set_option('display.max_columns', None)\n",
    "pd.set_option('display.max_colwidth', None)"
   ]
  },
  {
   "cell_type": "code",
   "execution_count": 175,
   "metadata": {},
   "outputs": [],
   "source": [
    "csgo_df['survivingCount'] =  csgo_df.survivingPlayers.apply(lambda x: len(x[1:-1].split(',')) if x != 'null' else 0)\n",
    "csgo_df['longestKillWaitS'] = csgo_df['longestKillWait']/csgo_df['tickrate']\n",
    "csgo_df['lastKillToEndS'] = csgo_df['lastKillToEnd']/csgo_df['tickrate']"
   ]
  },
  {
   "cell_type": "code",
   "execution_count": 176,
   "metadata": {},
   "outputs": [
    {
     "data": {
      "text/html": [
       "<div>\n",
       "<style scoped>\n",
       "    .dataframe tbody tr th:only-of-type {\n",
       "        vertical-align: middle;\n",
       "    }\n",
       "\n",
       "    .dataframe tbody tr th {\n",
       "        vertical-align: top;\n",
       "    }\n",
       "\n",
       "    .dataframe thead th {\n",
       "        text-align: right;\n",
       "    }\n",
       "</style>\n",
       "<table border=\"1\" class=\"dataframe\">\n",
       "  <thead>\n",
       "    <tr style=\"text-align: right;\">\n",
       "      <th></th>\n",
       "      <th>round_id</th>\n",
       "      <th>game_id</th>\n",
       "      <th>duration</th>\n",
       "      <th>losingTeamName</th>\n",
       "      <th>losingSide</th>\n",
       "      <th>startTick</th>\n",
       "      <th>endTick</th>\n",
       "      <th>endOfficialTick</th>\n",
       "      <th>survivingPlayers</th>\n",
       "      <th>losingTeamLeftoverMoney</th>\n",
       "      <th>equipmentSavedValue</th>\n",
       "      <th>killTicks</th>\n",
       "      <th>smokeTicks</th>\n",
       "      <th>molotovTicks</th>\n",
       "      <th>heTicks</th>\n",
       "      <th>longestKillWait</th>\n",
       "      <th>lastKillToEnd</th>\n",
       "      <th>round_no</th>\n",
       "      <th>heDamage</th>\n",
       "      <th>id</th>\n",
       "      <th>time</th>\n",
       "      <th>team_a</th>\n",
       "      <th>team_b</th>\n",
       "      <th>team_a_players</th>\n",
       "      <th>team_b_players</th>\n",
       "      <th>map</th>\n",
       "      <th>tickrate</th>\n",
       "      <th>survivingCount</th>\n",
       "      <th>longestKillWaitS</th>\n",
       "      <th>lastKillToEndS</th>\n",
       "    </tr>\n",
       "  </thead>\n",
       "  <tbody>\n",
       "    <tr>\n",
       "      <th>0</th>\n",
       "      <td>1</td>\n",
       "      <td>1</td>\n",
       "      <td>106</td>\n",
       "      <td>BIG</td>\n",
       "      <td>3</td>\n",
       "      <td>895</td>\n",
       "      <td>14468</td>\n",
       "      <td>15108</td>\n",
       "      <td>[76561198118196092]</td>\n",
       "      <td>11600</td>\n",
       "      <td>850</td>\n",
       "      <td>[5773,7625,8816,9240,11420,11811,12862,13361,14754]</td>\n",
       "      <td>[5238,6177]</td>\n",
       "      <td>[4976]</td>\n",
       "      <td>null</td>\n",
       "      <td>2180</td>\n",
       "      <td>1107</td>\n",
       "      <td>0</td>\n",
       "      <td>0</td>\n",
       "      <td>1</td>\n",
       "      <td>2022-05-16 14:30:47+00:00</td>\n",
       "      <td>BIG</td>\n",
       "      <td>Vitality</td>\n",
       "      <td>[76561197961491680,76561198118196092,76561197980122997,76561198170631091,76561197997556936]</td>\n",
       "      <td>[76561197989744167,76561198004854956,76561197983956651,76561198113666193,76561198081528911]</td>\n",
       "      <td>de_mirage</td>\n",
       "      <td>128</td>\n",
       "      <td>1</td>\n",
       "      <td>17.031250</td>\n",
       "      <td>8.648438</td>\n",
       "    </tr>\n",
       "    <tr>\n",
       "      <th>1</th>\n",
       "      <td>2</td>\n",
       "      <td>1</td>\n",
       "      <td>59</td>\n",
       "      <td>BIG</td>\n",
       "      <td>3</td>\n",
       "      <td>17668</td>\n",
       "      <td>25251</td>\n",
       "      <td>25890</td>\n",
       "      <td>null</td>\n",
       "      <td>13900</td>\n",
       "      <td>0</td>\n",
       "      <td>[22026,22099,22345,22602,22942,23282,24369,25251]</td>\n",
       "      <td>[18605,18694,18752,21382,21456,21729,23989,24386]</td>\n",
       "      <td>[21179,22178,24373]</td>\n",
       "      <td>[20321,21283,22665]</td>\n",
       "      <td>1087</td>\n",
       "      <td>0</td>\n",
       "      <td>1</td>\n",
       "      <td>32</td>\n",
       "      <td>1</td>\n",
       "      <td>2022-05-16 14:30:47+00:00</td>\n",
       "      <td>BIG</td>\n",
       "      <td>Vitality</td>\n",
       "      <td>[76561197961491680,76561198118196092,76561197980122997,76561198170631091,76561197997556936]</td>\n",
       "      <td>[76561197989744167,76561198004854956,76561197983956651,76561198113666193,76561198081528911]</td>\n",
       "      <td>de_mirage</td>\n",
       "      <td>128</td>\n",
       "      <td>0</td>\n",
       "      <td>8.492188</td>\n",
       "      <td>0.000000</td>\n",
       "    </tr>\n",
       "    <tr>\n",
       "      <th>2</th>\n",
       "      <td>3</td>\n",
       "      <td>1</td>\n",
       "      <td>49</td>\n",
       "      <td>BIG</td>\n",
       "      <td>3</td>\n",
       "      <td>28450</td>\n",
       "      <td>34849</td>\n",
       "      <td>35489</td>\n",
       "      <td>null</td>\n",
       "      <td>28000</td>\n",
       "      <td>0</td>\n",
       "      <td>[29989,31734,32150,32229,32794,33787,34849]</td>\n",
       "      <td>[29452,29634,32205]</td>\n",
       "      <td>[29654,30801]</td>\n",
       "      <td>[31687]</td>\n",
       "      <td>1745</td>\n",
       "      <td>0</td>\n",
       "      <td>2</td>\n",
       "      <td>64</td>\n",
       "      <td>1</td>\n",
       "      <td>2022-05-16 14:30:47+00:00</td>\n",
       "      <td>BIG</td>\n",
       "      <td>Vitality</td>\n",
       "      <td>[76561197961491680,76561198118196092,76561197980122997,76561198170631091,76561197997556936]</td>\n",
       "      <td>[76561197989744167,76561198004854956,76561197983956651,76561198113666193,76561198081528911]</td>\n",
       "      <td>de_mirage</td>\n",
       "      <td>128</td>\n",
       "      <td>0</td>\n",
       "      <td>13.632812</td>\n",
       "      <td>0.000000</td>\n",
       "    </tr>\n",
       "    <tr>\n",
       "      <th>3</th>\n",
       "      <td>4</td>\n",
       "      <td>1</td>\n",
       "      <td>114</td>\n",
       "      <td>BIG</td>\n",
       "      <td>3</td>\n",
       "      <td>38049</td>\n",
       "      <td>52763</td>\n",
       "      <td>53403</td>\n",
       "      <td>[76561197980122997,76561197997556936]</td>\n",
       "      <td>18750</td>\n",
       "      <td>11150</td>\n",
       "      <td>[41076,46280,46285,46291,47254,49147]</td>\n",
       "      <td>[38960,38963,40045,42096,42180,42452,42802,45406,47490]</td>\n",
       "      <td>[38791,39413,39970,46864,47922]</td>\n",
       "      <td>[39232,43680]</td>\n",
       "      <td>5204</td>\n",
       "      <td>3616</td>\n",
       "      <td>3</td>\n",
       "      <td>21</td>\n",
       "      <td>1</td>\n",
       "      <td>2022-05-16 14:30:47+00:00</td>\n",
       "      <td>BIG</td>\n",
       "      <td>Vitality</td>\n",
       "      <td>[76561197961491680,76561198118196092,76561197980122997,76561198170631091,76561197997556936]</td>\n",
       "      <td>[76561197989744167,76561198004854956,76561197983956651,76561198113666193,76561198081528911]</td>\n",
       "      <td>de_mirage</td>\n",
       "      <td>128</td>\n",
       "      <td>2</td>\n",
       "      <td>40.656250</td>\n",
       "      <td>28.250000</td>\n",
       "    </tr>\n",
       "    <tr>\n",
       "      <th>4</th>\n",
       "      <td>5</td>\n",
       "      <td>1</td>\n",
       "      <td>72</td>\n",
       "      <td>Vitality</td>\n",
       "      <td>2</td>\n",
       "      <td>55963</td>\n",
       "      <td>65262</td>\n",
       "      <td>65901</td>\n",
       "      <td>null</td>\n",
       "      <td>23900</td>\n",
       "      <td>0</td>\n",
       "      <td>[58135,58183,58436,59056,59204,59988,64708,65262]</td>\n",
       "      <td>[56946,57747,58132,58978,59143]</td>\n",
       "      <td>[56898,57776,57906,62557]</td>\n",
       "      <td>[57109,57881,60391]</td>\n",
       "      <td>4720</td>\n",
       "      <td>0</td>\n",
       "      <td>4</td>\n",
       "      <td>55</td>\n",
       "      <td>1</td>\n",
       "      <td>2022-05-16 14:30:47+00:00</td>\n",
       "      <td>BIG</td>\n",
       "      <td>Vitality</td>\n",
       "      <td>[76561197961491680,76561198118196092,76561197980122997,76561198170631091,76561197997556936]</td>\n",
       "      <td>[76561197989744167,76561198004854956,76561197983956651,76561198113666193,76561198081528911]</td>\n",
       "      <td>de_mirage</td>\n",
       "      <td>128</td>\n",
       "      <td>0</td>\n",
       "      <td>36.875000</td>\n",
       "      <td>0.000000</td>\n",
       "    </tr>\n",
       "    <tr>\n",
       "      <th>...</th>\n",
       "      <td>...</td>\n",
       "      <td>...</td>\n",
       "      <td>...</td>\n",
       "      <td>...</td>\n",
       "      <td>...</td>\n",
       "      <td>...</td>\n",
       "      <td>...</td>\n",
       "      <td>...</td>\n",
       "      <td>...</td>\n",
       "      <td>...</td>\n",
       "      <td>...</td>\n",
       "      <td>...</td>\n",
       "      <td>...</td>\n",
       "      <td>...</td>\n",
       "      <td>...</td>\n",
       "      <td>...</td>\n",
       "      <td>...</td>\n",
       "      <td>...</td>\n",
       "      <td>...</td>\n",
       "      <td>...</td>\n",
       "      <td>...</td>\n",
       "      <td>...</td>\n",
       "      <td>...</td>\n",
       "      <td>...</td>\n",
       "      <td>...</td>\n",
       "      <td>...</td>\n",
       "      <td>...</td>\n",
       "      <td>...</td>\n",
       "      <td>...</td>\n",
       "      <td>...</td>\n",
       "    </tr>\n",
       "    <tr>\n",
       "      <th>18918</th>\n",
       "      <td>18920</td>\n",
       "      <td>724</td>\n",
       "      <td>80</td>\n",
       "      <td>Virtus.pro</td>\n",
       "      <td>2</td>\n",
       "      <td>482130</td>\n",
       "      <td>492490</td>\n",
       "      <td>493130</td>\n",
       "      <td>null</td>\n",
       "      <td>33650</td>\n",
       "      <td>0</td>\n",
       "      <td>[484089,484909,488096,488201,488284,488862,489085,489341,490695]</td>\n",
       "      <td>[483051,485410,485451]</td>\n",
       "      <td>[483426,484175,484324,485282,486153]</td>\n",
       "      <td>[483839,483847,484147,489085]</td>\n",
       "      <td>3187</td>\n",
       "      <td>1795</td>\n",
       "      <td>25</td>\n",
       "      <td>77</td>\n",
       "      <td>724</td>\n",
       "      <td>2021-10-30 13:38:21+00:00</td>\n",
       "      <td>Virtus.pro</td>\n",
       "      <td>Team Vitality</td>\n",
       "      <td>[76561198036125584,76561197995817501,76561198173201923,76561198127236290,76561198134401925]</td>\n",
       "      <td>[76561198113666193,76561198081528911,76561197989744167,76561198006920295,76561198005967969]</td>\n",
       "      <td>de_inferno</td>\n",
       "      <td>128</td>\n",
       "      <td>0</td>\n",
       "      <td>24.898438</td>\n",
       "      <td>14.023438</td>\n",
       "    </tr>\n",
       "    <tr>\n",
       "      <th>18919</th>\n",
       "      <td>18921</td>\n",
       "      <td>724</td>\n",
       "      <td>115</td>\n",
       "      <td>Virtus.pro</td>\n",
       "      <td>2</td>\n",
       "      <td>495690</td>\n",
       "      <td>510410</td>\n",
       "      <td>511050</td>\n",
       "      <td>[76561198036125584]</td>\n",
       "      <td>21000</td>\n",
       "      <td>6950</td>\n",
       "      <td>[502103,503742,503815,504428,504735,509366]</td>\n",
       "      <td>[496525,498713,501830,503475,503768,503841,503989]</td>\n",
       "      <td>[496773,497930,498254,498647,502575,502954,503685,503974]</td>\n",
       "      <td>[497405,498527,499001,501607,502390,503865]</td>\n",
       "      <td>4631</td>\n",
       "      <td>1044</td>\n",
       "      <td>26</td>\n",
       "      <td>71</td>\n",
       "      <td>724</td>\n",
       "      <td>2021-10-30 13:38:21+00:00</td>\n",
       "      <td>Virtus.pro</td>\n",
       "      <td>Team Vitality</td>\n",
       "      <td>[76561198036125584,76561197995817501,76561198173201923,76561198127236290,76561198134401925]</td>\n",
       "      <td>[76561198113666193,76561198081528911,76561197989744167,76561198006920295,76561198005967969]</td>\n",
       "      <td>de_inferno</td>\n",
       "      <td>128</td>\n",
       "      <td>1</td>\n",
       "      <td>36.179688</td>\n",
       "      <td>8.156250</td>\n",
       "    </tr>\n",
       "    <tr>\n",
       "      <th>18920</th>\n",
       "      <td>18922</td>\n",
       "      <td>724</td>\n",
       "      <td>115</td>\n",
       "      <td>Virtus.pro</td>\n",
       "      <td>2</td>\n",
       "      <td>513610</td>\n",
       "      <td>528330</td>\n",
       "      <td>528970</td>\n",
       "      <td>null</td>\n",
       "      <td>15500</td>\n",
       "      <td>0</td>\n",
       "      <td>[518273,518523,523611,524248,524726,525436,528801]</td>\n",
       "      <td>[514473,519310,519898,521722,522298,523269,525958]</td>\n",
       "      <td>[514835,514942,515026,517553,518840,522385]</td>\n",
       "      <td>[515244,515633,515739,517968,519356,520000]</td>\n",
       "      <td>5088</td>\n",
       "      <td>2894</td>\n",
       "      <td>27</td>\n",
       "      <td>18</td>\n",
       "      <td>724</td>\n",
       "      <td>2021-10-30 13:38:21+00:00</td>\n",
       "      <td>Virtus.pro</td>\n",
       "      <td>Team Vitality</td>\n",
       "      <td>[76561198036125584,76561197995817501,76561198173201923,76561198127236290,76561198134401925]</td>\n",
       "      <td>[76561198113666193,76561198081528911,76561197989744167,76561198006920295,76561198005967969]</td>\n",
       "      <td>de_inferno</td>\n",
       "      <td>128</td>\n",
       "      <td>0</td>\n",
       "      <td>39.750000</td>\n",
       "      <td>22.609375</td>\n",
       "    </tr>\n",
       "    <tr>\n",
       "      <th>18921</th>\n",
       "      <td>18923</td>\n",
       "      <td>724</td>\n",
       "      <td>104</td>\n",
       "      <td>Virtus.pro</td>\n",
       "      <td>2</td>\n",
       "      <td>531530</td>\n",
       "      <td>544961</td>\n",
       "      <td>545600</td>\n",
       "      <td>null</td>\n",
       "      <td>25850</td>\n",
       "      <td>0</td>\n",
       "      <td>[535242,539394,539649,539821,541288,543625,543965,544961]</td>\n",
       "      <td>[532546,536317,537041,537113,537795,538096,538543,538739,539223]</td>\n",
       "      <td>[533129,533510,535912,536654,539109]</td>\n",
       "      <td>[533171,533964,539821]</td>\n",
       "      <td>4152</td>\n",
       "      <td>0</td>\n",
       "      <td>28</td>\n",
       "      <td>131</td>\n",
       "      <td>724</td>\n",
       "      <td>2021-10-30 13:38:21+00:00</td>\n",
       "      <td>Virtus.pro</td>\n",
       "      <td>Team Vitality</td>\n",
       "      <td>[76561198036125584,76561197995817501,76561198173201923,76561198127236290,76561198134401925]</td>\n",
       "      <td>[76561198113666193,76561198081528911,76561197989744167,76561198006920295,76561198005967969]</td>\n",
       "      <td>de_inferno</td>\n",
       "      <td>128</td>\n",
       "      <td>0</td>\n",
       "      <td>32.437500</td>\n",
       "      <td>0.000000</td>\n",
       "    </tr>\n",
       "    <tr>\n",
       "      <th>18922</th>\n",
       "      <td>18924</td>\n",
       "      <td>724</td>\n",
       "      <td>116</td>\n",
       "      <td>Vitality</td>\n",
       "      <td>3</td>\n",
       "      <td>548160</td>\n",
       "      <td>563015</td>\n",
       "      <td>563015</td>\n",
       "      <td>null</td>\n",
       "      <td>28250</td>\n",
       "      <td>0</td>\n",
       "      <td>[552531,559500,561066,561209,561871,563015]</td>\n",
       "      <td>[550360,551060,556216,556303,558498,558729,558774,560287,560860]</td>\n",
       "      <td>[549475,549499,550446,550999,552123,553968,555227,558430,558733]</td>\n",
       "      <td>[549857,551172,551770,552507,558269,562081]</td>\n",
       "      <td>6969</td>\n",
       "      <td>0</td>\n",
       "      <td>29</td>\n",
       "      <td>33</td>\n",
       "      <td>724</td>\n",
       "      <td>2021-10-30 13:38:21+00:00</td>\n",
       "      <td>Virtus.pro</td>\n",
       "      <td>Team Vitality</td>\n",
       "      <td>[76561198036125584,76561197995817501,76561198173201923,76561198127236290,76561198134401925]</td>\n",
       "      <td>[76561198113666193,76561198081528911,76561197989744167,76561198006920295,76561198005967969]</td>\n",
       "      <td>de_inferno</td>\n",
       "      <td>128</td>\n",
       "      <td>0</td>\n",
       "      <td>54.445312</td>\n",
       "      <td>0.000000</td>\n",
       "    </tr>\n",
       "  </tbody>\n",
       "</table>\n",
       "<p>18923 rows × 30 columns</p>\n",
       "</div>"
      ],
      "text/plain": [
       "       round_id  game_id  duration losingTeamName  losingSide  startTick  \\\n",
       "0             1        1       106            BIG           3        895   \n",
       "1             2        1        59            BIG           3      17668   \n",
       "2             3        1        49            BIG           3      28450   \n",
       "3             4        1       114            BIG           3      38049   \n",
       "4             5        1        72       Vitality           2      55963   \n",
       "...         ...      ...       ...            ...         ...        ...   \n",
       "18918     18920      724        80     Virtus.pro           2     482130   \n",
       "18919     18921      724       115     Virtus.pro           2     495690   \n",
       "18920     18922      724       115     Virtus.pro           2     513610   \n",
       "18921     18923      724       104     Virtus.pro           2     531530   \n",
       "18922     18924      724       116       Vitality           3     548160   \n",
       "\n",
       "       endTick  endOfficialTick                       survivingPlayers  \\\n",
       "0        14468            15108                    [76561198118196092]   \n",
       "1        25251            25890                                   null   \n",
       "2        34849            35489                                   null   \n",
       "3        52763            53403  [76561197980122997,76561197997556936]   \n",
       "4        65262            65901                                   null   \n",
       "...        ...              ...                                    ...   \n",
       "18918   492490           493130                                   null   \n",
       "18919   510410           511050                    [76561198036125584]   \n",
       "18920   528330           528970                                   null   \n",
       "18921   544961           545600                                   null   \n",
       "18922   563015           563015                                   null   \n",
       "\n",
       "       losingTeamLeftoverMoney  equipmentSavedValue  \\\n",
       "0                        11600                  850   \n",
       "1                        13900                    0   \n",
       "2                        28000                    0   \n",
       "3                        18750                11150   \n",
       "4                        23900                    0   \n",
       "...                        ...                  ...   \n",
       "18918                    33650                    0   \n",
       "18919                    21000                 6950   \n",
       "18920                    15500                    0   \n",
       "18921                    25850                    0   \n",
       "18922                    28250                    0   \n",
       "\n",
       "                                                              killTicks  \\\n",
       "0                   [5773,7625,8816,9240,11420,11811,12862,13361,14754]   \n",
       "1                     [22026,22099,22345,22602,22942,23282,24369,25251]   \n",
       "2                           [29989,31734,32150,32229,32794,33787,34849]   \n",
       "3                                 [41076,46280,46285,46291,47254,49147]   \n",
       "4                     [58135,58183,58436,59056,59204,59988,64708,65262]   \n",
       "...                                                                 ...   \n",
       "18918  [484089,484909,488096,488201,488284,488862,489085,489341,490695]   \n",
       "18919                       [502103,503742,503815,504428,504735,509366]   \n",
       "18920                [518273,518523,523611,524248,524726,525436,528801]   \n",
       "18921         [535242,539394,539649,539821,541288,543625,543965,544961]   \n",
       "18922                       [552531,559500,561066,561209,561871,563015]   \n",
       "\n",
       "                                                             smokeTicks  \\\n",
       "0                                                           [5238,6177]   \n",
       "1                     [18605,18694,18752,21382,21456,21729,23989,24386]   \n",
       "2                                                   [29452,29634,32205]   \n",
       "3               [38960,38963,40045,42096,42180,42452,42802,45406,47490]   \n",
       "4                                       [56946,57747,58132,58978,59143]   \n",
       "...                                                                 ...   \n",
       "18918                                            [483051,485410,485451]   \n",
       "18919                [496525,498713,501830,503475,503768,503841,503989]   \n",
       "18920                [514473,519310,519898,521722,522298,523269,525958]   \n",
       "18921  [532546,536317,537041,537113,537795,538096,538543,538739,539223]   \n",
       "18922  [550360,551060,556216,556303,558498,558729,558774,560287,560860]   \n",
       "\n",
       "                                                           molotovTicks  \\\n",
       "0                                                                [4976]   \n",
       "1                                                   [21179,22178,24373]   \n",
       "2                                                         [29654,30801]   \n",
       "3                                       [38791,39413,39970,46864,47922]   \n",
       "4                                             [56898,57776,57906,62557]   \n",
       "...                                                                 ...   \n",
       "18918                              [483426,484175,484324,485282,486153]   \n",
       "18919         [496773,497930,498254,498647,502575,502954,503685,503974]   \n",
       "18920                       [514835,514942,515026,517553,518840,522385]   \n",
       "18921                              [533129,533510,535912,536654,539109]   \n",
       "18922  [549475,549499,550446,550999,552123,553968,555227,558430,558733]   \n",
       "\n",
       "                                           heTicks  longestKillWait  \\\n",
       "0                                             null             2180   \n",
       "1                              [20321,21283,22665]             1087   \n",
       "2                                          [31687]             1745   \n",
       "3                                    [39232,43680]             5204   \n",
       "4                              [57109,57881,60391]             4720   \n",
       "...                                            ...              ...   \n",
       "18918                [483839,483847,484147,489085]             3187   \n",
       "18919  [497405,498527,499001,501607,502390,503865]             4631   \n",
       "18920  [515244,515633,515739,517968,519356,520000]             5088   \n",
       "18921                       [533171,533964,539821]             4152   \n",
       "18922  [549857,551172,551770,552507,558269,562081]             6969   \n",
       "\n",
       "       lastKillToEnd  round_no  heDamage   id                      time  \\\n",
       "0               1107         0         0    1 2022-05-16 14:30:47+00:00   \n",
       "1                  0         1        32    1 2022-05-16 14:30:47+00:00   \n",
       "2                  0         2        64    1 2022-05-16 14:30:47+00:00   \n",
       "3               3616         3        21    1 2022-05-16 14:30:47+00:00   \n",
       "4                  0         4        55    1 2022-05-16 14:30:47+00:00   \n",
       "...              ...       ...       ...  ...                       ...   \n",
       "18918           1795        25        77  724 2021-10-30 13:38:21+00:00   \n",
       "18919           1044        26        71  724 2021-10-30 13:38:21+00:00   \n",
       "18920           2894        27        18  724 2021-10-30 13:38:21+00:00   \n",
       "18921              0        28       131  724 2021-10-30 13:38:21+00:00   \n",
       "18922              0        29        33  724 2021-10-30 13:38:21+00:00   \n",
       "\n",
       "           team_a         team_b  \\\n",
       "0             BIG       Vitality   \n",
       "1             BIG       Vitality   \n",
       "2             BIG       Vitality   \n",
       "3             BIG       Vitality   \n",
       "4             BIG       Vitality   \n",
       "...           ...            ...   \n",
       "18918  Virtus.pro  Team Vitality   \n",
       "18919  Virtus.pro  Team Vitality   \n",
       "18920  Virtus.pro  Team Vitality   \n",
       "18921  Virtus.pro  Team Vitality   \n",
       "18922  Virtus.pro  Team Vitality   \n",
       "\n",
       "                                                                                    team_a_players  \\\n",
       "0      [76561197961491680,76561198118196092,76561197980122997,76561198170631091,76561197997556936]   \n",
       "1      [76561197961491680,76561198118196092,76561197980122997,76561198170631091,76561197997556936]   \n",
       "2      [76561197961491680,76561198118196092,76561197980122997,76561198170631091,76561197997556936]   \n",
       "3      [76561197961491680,76561198118196092,76561197980122997,76561198170631091,76561197997556936]   \n",
       "4      [76561197961491680,76561198118196092,76561197980122997,76561198170631091,76561197997556936]   \n",
       "...                                                                                            ...   \n",
       "18918  [76561198036125584,76561197995817501,76561198173201923,76561198127236290,76561198134401925]   \n",
       "18919  [76561198036125584,76561197995817501,76561198173201923,76561198127236290,76561198134401925]   \n",
       "18920  [76561198036125584,76561197995817501,76561198173201923,76561198127236290,76561198134401925]   \n",
       "18921  [76561198036125584,76561197995817501,76561198173201923,76561198127236290,76561198134401925]   \n",
       "18922  [76561198036125584,76561197995817501,76561198173201923,76561198127236290,76561198134401925]   \n",
       "\n",
       "                                                                                    team_b_players  \\\n",
       "0      [76561197989744167,76561198004854956,76561197983956651,76561198113666193,76561198081528911]   \n",
       "1      [76561197989744167,76561198004854956,76561197983956651,76561198113666193,76561198081528911]   \n",
       "2      [76561197989744167,76561198004854956,76561197983956651,76561198113666193,76561198081528911]   \n",
       "3      [76561197989744167,76561198004854956,76561197983956651,76561198113666193,76561198081528911]   \n",
       "4      [76561197989744167,76561198004854956,76561197983956651,76561198113666193,76561198081528911]   \n",
       "...                                                                                            ...   \n",
       "18918  [76561198113666193,76561198081528911,76561197989744167,76561198006920295,76561198005967969]   \n",
       "18919  [76561198113666193,76561198081528911,76561197989744167,76561198006920295,76561198005967969]   \n",
       "18920  [76561198113666193,76561198081528911,76561197989744167,76561198006920295,76561198005967969]   \n",
       "18921  [76561198113666193,76561198081528911,76561197989744167,76561198006920295,76561198005967969]   \n",
       "18922  [76561198113666193,76561198081528911,76561197989744167,76561198006920295,76561198005967969]   \n",
       "\n",
       "              map  tickrate  survivingCount  longestKillWaitS  lastKillToEndS  \n",
       "0       de_mirage       128               1         17.031250        8.648438  \n",
       "1       de_mirage       128               0          8.492188        0.000000  \n",
       "2       de_mirage       128               0         13.632812        0.000000  \n",
       "3       de_mirage       128               2         40.656250       28.250000  \n",
       "4       de_mirage       128               0         36.875000        0.000000  \n",
       "...           ...       ...             ...               ...             ...  \n",
       "18918  de_inferno       128               0         24.898438       14.023438  \n",
       "18919  de_inferno       128               1         36.179688        8.156250  \n",
       "18920  de_inferno       128               0         39.750000       22.609375  \n",
       "18921  de_inferno       128               0         32.437500        0.000000  \n",
       "18922  de_inferno       128               0         54.445312        0.000000  \n",
       "\n",
       "[18923 rows x 30 columns]"
      ]
     },
     "execution_count": 176,
     "metadata": {},
     "output_type": "execute_result"
    }
   ],
   "source": [
    "csgo_df\n",
    "\n"
   ]
  },
  {
   "attachments": {},
   "cell_type": "markdown",
   "metadata": {},
   "source": [
    "Create some averages of the data. For numerical values, we can immediately plot them."
   ]
  },
  {
   "cell_type": "code",
   "execution_count": 177,
   "metadata": {},
   "outputs": [
    {
     "name": "stderr",
     "output_type": "stream",
     "text": [
      "/tmp/ipykernel_1335/1524761603.py:2: FutureWarning: The default value of numeric_only in DataFrameGroupBy.mean is deprecated. In a future version, numeric_only will default to False. Either specify numeric_only or select only columns which should be valid for the function.\n",
      "  yearly_average.mean().dropna()\n"
     ]
    },
    {
     "data": {
      "text/plain": [
       "''"
      ]
     },
     "execution_count": 177,
     "metadata": {},
     "output_type": "execute_result"
    }
   ],
   "source": [
    "yearly_average = csgo_df.resample(\"Y\", on=\"time\")\n",
    "yearly_average.mean().dropna()\n",
    ";"
   ]
  },
  {
   "cell_type": "code",
   "execution_count": 178,
   "metadata": {},
   "outputs": [
    {
     "name": "stderr",
     "output_type": "stream",
     "text": [
      "/tmp/ipykernel_1335/330764374.py:2: FutureWarning: The default value of numeric_only in DataFrameGroupBy.mean is deprecated. In a future version, numeric_only will default to False. Either specify numeric_only or select only columns which should be valid for the function.\n",
      "  monthly_average.mean().dropna()\n"
     ]
    },
    {
     "data": {
      "text/plain": [
       "''"
      ]
     },
     "execution_count": 178,
     "metadata": {},
     "output_type": "execute_result"
    }
   ],
   "source": [
    "monthly_average = csgo_df.resample(\"M\", on=\"time\")\n",
    "monthly_average.mean().dropna()\n",
    ";"
   ]
  },
  {
   "attachments": {},
   "cell_type": "markdown",
   "metadata": {},
   "source": [
    "The average duration of CS:GO rounds. As you can see, a clear upwards trend."
   ]
  },
  {
   "cell_type": "code",
   "execution_count": 179,
   "metadata": {},
   "outputs": [
    {
     "name": "stderr",
     "output_type": "stream",
     "text": [
      "/tmp/ipykernel_1335/1175145296.py:1: FutureWarning: The default value of numeric_only in DataFrameGroupBy.mean is deprecated. In a future version, numeric_only will default to False. Either specify numeric_only or select only columns which should be valid for the function.\n",
      "  duration_plot = monthly_average[[\"time\", \"duration\"]].mean().dropna()\n"
     ]
    },
    {
     "data": {
      "text/plain": [
       "<Axes: xlabel='time'>"
      ]
     },
     "execution_count": 179,
     "metadata": {},
     "output_type": "execute_result"
    },
    {
     "data": {
      "image/png": "[encoded data removed]",
      "text/plain": [
       "<Figure size 640x480 with 1 Axes>"
      ]
     },
     "metadata": {},
     "output_type": "display_data"
    }
   ],
   "source": [
    "duration_plot = monthly_average[[\"time\", \"duration\"]].mean().dropna()\n",
    "duration_plot.plot()"
   ]
  },
  {
   "cell_type": "code",
   "execution_count": 180,
   "metadata": {},
   "outputs": [
    {
     "name": "stderr",
     "output_type": "stream",
     "text": [
      "/tmp/ipykernel_1335/683167702.py:1: FutureWarning: The default value of numeric_only in DataFrameGroupBy.mean is deprecated. In a future version, numeric_only will default to False. Either specify numeric_only or select only columns which should be valid for the function.\n",
      "  survivingp_plot = monthly_average[[\"time\", \"survivingCount\"]].mean().dropna()\n"
     ]
    },
    {
     "data": {
      "text/plain": [
       "<Axes: xlabel='time'>"
      ]
     },
     "execution_count": 180,
     "metadata": {},
     "output_type": "execute_result"
    },
    {
     "data": {
      "image/png": "[encoded data removed]",
      "text/plain": [
       "<Figure size 640x480 with 1 Axes>"
      ]
     },
     "metadata": {},
     "output_type": "display_data"
    }
   ],
   "source": [
    "survivingp_plot = monthly_average[[\"time\", \"survivingCount\"]].mean().dropna()\n",
    "survivingp_plot.plot()"
   ]
  },
  {
   "cell_type": "code",
   "execution_count": 181,
   "metadata": {},
   "outputs": [
    {
     "name": "stderr",
     "output_type": "stream",
     "text": [
      "/tmp/ipykernel_1335/3828588760.py:1: FutureWarning: The default value of numeric_only in DataFrameGroupBy.mean is deprecated. In a future version, numeric_only will default to False. Either specify numeric_only or select only columns which should be valid for the function.\n",
      "  monthly_average[['time', 'heDamage']].mean().dropna().plot()\n"
     ]
    },
    {
     "data": {
      "text/plain": [
       "<Axes: xlabel='time'>"
      ]
     },
     "execution_count": 181,
     "metadata": {},
     "output_type": "execute_result"
    },
    {
     "data": {
      "image/png": "[encoded data removed]",
      "text/plain": [
       "<Figure size 640x480 with 1 Axes>"
      ]
     },
     "metadata": {},
     "output_type": "display_data"
    }
   ],
   "source": [
    "monthly_average[['time', 'heDamage']].mean().dropna().plot()"
   ]
  },
  {
   "cell_type": "code",
   "execution_count": 182,
   "metadata": {},
   "outputs": [
    {
     "name": "stderr",
     "output_type": "stream",
     "text": [
      "/tmp/ipykernel_1335/538616652.py:1: FutureWarning: The default value of numeric_only in DataFrameGroupBy.mean is deprecated. In a future version, numeric_only will default to False. Either specify numeric_only or select only columns which should be valid for the function.\n",
      "  longestkill_plot = monthly_average[[\"time\", \"longestKillWaitS\"]].mean().dropna()\n"
     ]
    },
    {
     "data": {
      "text/plain": [
       "<Axes: xlabel='time'>"
      ]
     },
     "execution_count": 182,
     "metadata": {},
     "output_type": "execute_result"
    },
    {
     "data": {
      "image/png": "[encoded data removed]",
      "text/plain": [
       "<Figure size 640x480 with 1 Axes>"
      ]
     },
     "metadata": {},
     "output_type": "display_data"
    }
   ],
   "source": [
    "longestkill_plot = monthly_average[[\"time\", \"longestKillWaitS\"]].mean().dropna()\n",
    "longestkill_plot.plot()"
   ]
  },
  {
   "cell_type": "code",
   "execution_count": 183,
   "metadata": {},
   "outputs": [
    {
     "name": "stderr",
     "output_type": "stream",
     "text": [
      "/tmp/ipykernel_1335/685273263.py:1: FutureWarning: The default value of numeric_only in DataFrameGroupBy.mean is deprecated. In a future version, numeric_only will default to False. Either specify numeric_only or select only columns which should be valid for the function.\n",
      "  monthly_average[['time', 'lastKillToEnd']].mean().dropna().plot()\n"
     ]
    },
    {
     "data": {
      "text/plain": [
       "<Axes: xlabel='time'>"
      ]
     },
     "execution_count": 183,
     "metadata": {},
     "output_type": "execute_result"
    },
    {
     "data": {
      "image/png": "[encoded data removed]",
      "text/plain": [
       "<Figure size 640x480 with 1 Axes>"
      ]
     },
     "metadata": {},
     "output_type": "display_data"
    }
   ],
   "source": [
    "monthly_average[['time', 'lastKillToEnd']].mean().dropna().plot()"
   ]
  },
  {
   "cell_type": "code",
   "execution_count": 184,
   "metadata": {},
   "outputs": [],
   "source": [
    "csgo_df[\"team_a_players_str\"] = csgo_df.team_a_players.apply(lambda x: str(sorted(x[1:-1].split(','))))\n",
    "csgo_df[\"team_b_players_str\"] = csgo_df.team_b_players.apply(lambda x: str(sorted(x[1:-1].split(','))))\n",
    "csgo_df[\"team_a_players\"] = csgo_df.team_a_players.apply(lambda x: sorted(map(int, x[1:-1].split(','))))\n",
    "csgo_df[\"team_b_players\"] = csgo_df.team_b_players.apply(lambda x: sorted(map(int, x[1:-1].split(','))))\n",
    "csgo_df[\"losingPlayers\"] = np.where(csgo_df[\"losingTeamName\"] == csgo_df[\"team_a\"],  csgo_df[\"team_a_players\"], csgo_df[\"team_b_players\"])\n",
    "csgo_df[\"losingPlayers_str\"] = np.where(csgo_df[\"losingTeamName\"] == csgo_df[\"team_a\"],  csgo_df[\"team_a_players_str\"], csgo_df[\"team_b_players_str\"])"
   ]
  },
  {
   "cell_type": "code",
   "execution_count": 185,
   "metadata": {},
   "outputs": [
    {
     "data": {
      "text/plain": [
       "de_mirage      3148\n",
       "de_inferno     3129\n",
       "de_dust2       2533\n",
       "de_overpass    2200\n",
       "de_nuke        1878\n",
       "de_cbble       1649\n",
       "de_train       1546\n",
       "de_cache       1267\n",
       "de_vertigo      871\n",
       "de_ancient      702\n",
       "Name: map, dtype: int64"
      ]
     },
     "execution_count": 185,
     "metadata": {},
     "output_type": "execute_result"
    }
   ],
   "source": [
    "csgo_df.map.explode().value_counts()"
   ]
  },
  {
   "cell_type": "code",
   "execution_count": 186,
   "metadata": {},
   "outputs": [
    {
     "data": {
      "text/plain": [
       "''"
      ]
     },
     "execution_count": 186,
     "metadata": {},
     "output_type": "execute_result"
    }
   ],
   "source": [
    "survivingRounds = csgo_df.loc[csgo_df[\"survivingCount\"] > 0]\n",
    "survivingRounds\n",
    ";"
   ]
  },
  {
   "attachments": {},
   "cell_type": "markdown",
   "metadata": {},
   "source": [
    "This should be accurate in calculating the teams that save the most. "
   ]
  },
  {
   "cell_type": "code",
   "execution_count": 187,
   "metadata": {},
   "outputs": [
    {
     "data": {
      "text/plain": [
       "[76561197960499780, 76561197960725934, 76561197973845818, 76561197979126082, 76561197982141573]    113\n",
       "[76561197996678278, 76561198004115516, 76561198022365638, 76561198064864198, 76561198160709585]     82\n",
       "[76561197965809411, 76561197977105184, 76561197985097994, 76561198002708642, 76561198072321716]     77\n",
       "[76561197995817501, 76561198036125584, 76561198127236290, 76561198134401925, 76561198173201923]     74\n",
       "[76561197969684910, 76561197988627193, 76561197991348083, 76561198031554200, 76561198031651584]     72\n",
       "                                                                                                  ... \n",
       "[76561197960301489, 76561197972003061, 76561197974587647, 76561198006920295, 76561198014251501]      1\n",
       "[76561197961694928, 76561197963561698, 76561197965743043, 76561197967342827, 76561197987385769]      1\n",
       "[76561197966075661, 76561197998606698, 76561198006466707, 76561198012944495, 76561198106907258]      1\n",
       "[76561197960429732, 76561197961021014, 76561197964781654, 76561197981341453]                         1\n",
       "[76561197960499780, 76561197960725934, 76561197973845818]                                            1\n",
       "Name: losingPlayers, Length: 183, dtype: int64"
      ]
     },
     "execution_count": 187,
     "metadata": {},
     "output_type": "execute_result"
    }
   ],
   "source": [
    "survivingRounds.losingPlayers.value_counts()"
   ]
  },
  {
   "attachments": {},
   "cell_type": "markdown",
   "metadata": {},
   "source": [
    "This is not a list of the most saved players - it is a list of players on teams that save the most. dupreeh might not have saved 235 times, but the teams he's been on have.\n",
    "\n",
    "I would say that Jame and Qikert's position is quite notable. "
   ]
  },
  {
   "cell_type": "code",
   "execution_count": 188,
   "metadata": {},
   "outputs": [
    {
     "data": {
      "text/html": [
       "<div>\n",
       "<style scoped>\n",
       "    .dataframe tbody tr th:only-of-type {\n",
       "        vertical-align: middle;\n",
       "    }\n",
       "\n",
       "    .dataframe tbody tr th {\n",
       "        vertical-align: top;\n",
       "    }\n",
       "\n",
       "    .dataframe thead th {\n",
       "        text-align: right;\n",
       "    }\n",
       "</style>\n",
       "<table border=\"1\" class=\"dataframe\">\n",
       "  <thead>\n",
       "    <tr style=\"text-align: right;\">\n",
       "      <th></th>\n",
       "      <th>name</th>\n",
       "    </tr>\n",
       "    <tr>\n",
       "      <th>roundsSaved</th>\n",
       "      <th></th>\n",
       "    </tr>\n",
       "  </thead>\n",
       "  <tbody>\n",
       "    <tr>\n",
       "      <th>1</th>\n",
       "      <td>[stonde, xartE, KHRN, disturbed, HUNDEN, natu, AcilioN, racno-.`SGMF.&lt;..&gt;, cent #ALIENWARE, blackpoisoN #RAZER, Detrony #INTEL, deviaNt #COREX]</td>\n",
       "    </tr>\n",
       "    <tr>\n",
       "      <th>2</th>\n",
       "      <td>[desi, WOLF &gt; astaRRRRR, WOLF &gt; R i X, James, WOLF &gt; RiTz, WOLF &gt; Mithil:D, WOLF &gt; Ace, oSee]</td>\n",
       "    </tr>\n",
       "    <tr>\n",
       "      <th>3</th>\n",
       "      <td>[yam, ub1que, zEVES, Polly * XTRFY, steel * ADATA, ptr]</td>\n",
       "    </tr>\n",
       "    <tr>\n",
       "      <th>4</th>\n",
       "      <td>[THREAT]</td>\n",
       "    </tr>\n",
       "    <tr>\n",
       "      <th>5</th>\n",
       "      <td>[suNny, HS, pita, koosta, DEVIL, innocent, [R]eason LOMME * SteelSeries, [R]eason EXR * SteelSeries, zehN]</td>\n",
       "    </tr>\n",
       "    <tr>\n",
       "      <th>...</th>\n",
       "      <td>...</td>\n",
       "    </tr>\n",
       "    <tr>\n",
       "      <th>200</th>\n",
       "      <td>[s1mple]</td>\n",
       "    </tr>\n",
       "    <tr>\n",
       "      <th>212</th>\n",
       "      <td>[device]</td>\n",
       "    </tr>\n",
       "    <tr>\n",
       "      <th>215</th>\n",
       "      <td>[Jame, Qikert, Zeus]</td>\n",
       "    </tr>\n",
       "    <tr>\n",
       "      <th>226</th>\n",
       "      <td>[olofmeister]</td>\n",
       "    </tr>\n",
       "    <tr>\n",
       "      <th>235</th>\n",
       "      <td>[dupreeh]</td>\n",
       "    </tr>\n",
       "  </tbody>\n",
       "</table>\n",
       "<p>118 rows × 1 columns</p>\n",
       "</div>"
      ],
      "text/plain": [
       "                                                                                                                                                        name\n",
       "roundsSaved                                                                                                                                                 \n",
       "1            [stonde, xartE, KHRN, disturbed, HUNDEN, natu, AcilioN, racno-.`SGMF.<..>, cent #ALIENWARE, blackpoisoN #RAZER, Detrony #INTEL, deviaNt #COREX]\n",
       "2                                                              [desi, WOLF > astaRRRRR, WOLF > R i X, James, WOLF > RiTz, WOLF > Mithil:D, WOLF > Ace, oSee]\n",
       "3                                                                                                    [yam, ub1que, zEVES, Polly * XTRFY, steel * ADATA, ptr]\n",
       "4                                                                                                                                                   [THREAT]\n",
       "5                                                 [suNny, HS, pita, koosta, DEVIL, innocent, [R]eason LOMME * SteelSeries, [R]eason EXR * SteelSeries, zehN]\n",
       "...                                                                                                                                                      ...\n",
       "200                                                                                                                                                 [s1mple]\n",
       "212                                                                                                                                                 [device]\n",
       "215                                                                                                                                     [Jame, Qikert, Zeus]\n",
       "226                                                                                                                                            [olofmeister]\n",
       "235                                                                                                                                                [dupreeh]\n",
       "\n",
       "[118 rows x 1 columns]"
      ]
     },
     "execution_count": 188,
     "metadata": {},
     "output_type": "execute_result"
    }
   ],
   "source": [
    "survivingRounds.losingPlayers.explode().value_counts().to_frame().reset_index().rename(columns={\"index\":\"SteamID64\", \"losingPlayers\": \"roundsSaved\"}).merge(players_df)[['name', 'roundsSaved']].groupby('roundsSaved').agg(list)"
   ]
  },
  {
   "attachments": {},
   "cell_type": "markdown",
   "metadata": {},
   "source": [
    "This needs to be a SteamID64 like the above to be sure, but we can have a bit of an initial look here.\n",
    "\n",
    "Again, jesus Jame."
   ]
  },
  {
   "cell_type": "code",
   "execution_count": 189,
   "metadata": {},
   "outputs": [],
   "source": [
    "csgo_df[\"survivingPlayers\"] = csgo_df.survivingPlayers.apply(lambda x: sorted(map(int, x[1:-1].split(','))) if x != 'null' else None)"
   ]
  },
  {
   "cell_type": "code",
   "execution_count": 190,
   "metadata": {},
   "outputs": [
    {
     "data": {
      "text/html": [
       "<div>\n",
       "<style scoped>\n",
       "    .dataframe tbody tr th:only-of-type {\n",
       "        vertical-align: middle;\n",
       "    }\n",
       "\n",
       "    .dataframe tbody tr th {\n",
       "        vertical-align: top;\n",
       "    }\n",
       "\n",
       "    .dataframe thead th {\n",
       "        text-align: right;\n",
       "    }\n",
       "</style>\n",
       "<table border=\"1\" class=\"dataframe\">\n",
       "  <thead>\n",
       "    <tr style=\"text-align: right;\">\n",
       "      <th></th>\n",
       "      <th>SteamID64</th>\n",
       "      <th>roundsSurvived</th>\n",
       "      <th>name</th>\n",
       "      <th>apps</th>\n",
       "    </tr>\n",
       "  </thead>\n",
       "  <tbody>\n",
       "    <tr>\n",
       "      <th>0</th>\n",
       "      <td>76561198036125584</td>\n",
       "      <td>121</td>\n",
       "      <td>Jame</td>\n",
       "      <td>47</td>\n",
       "    </tr>\n",
       "    <tr>\n",
       "      <th>1</th>\n",
       "      <td>76561198004854956</td>\n",
       "      <td>94</td>\n",
       "      <td>dupreeh</td>\n",
       "      <td>111</td>\n",
       "    </tr>\n",
       "    <tr>\n",
       "      <th>2</th>\n",
       "      <td>76561198034202275</td>\n",
       "      <td>90</td>\n",
       "      <td>s1mple</td>\n",
       "      <td>75</td>\n",
       "    </tr>\n",
       "    <tr>\n",
       "      <th>3</th>\n",
       "      <td>76561197987713664</td>\n",
       "      <td>76</td>\n",
       "      <td>device</td>\n",
       "      <td>109</td>\n",
       "    </tr>\n",
       "    <tr>\n",
       "      <th>4</th>\n",
       "      <td>76561197972331023</td>\n",
       "      <td>75</td>\n",
       "      <td>GuardiaN</td>\n",
       "      <td>77</td>\n",
       "    </tr>\n",
       "    <tr>\n",
       "      <th>...</th>\n",
       "      <td>...</td>\n",
       "      <td>...</td>\n",
       "      <td>...</td>\n",
       "      <td>...</td>\n",
       "    </tr>\n",
       "    <tr>\n",
       "      <th>300</th>\n",
       "      <td>76561197980539257</td>\n",
       "      <td>1</td>\n",
       "      <td>DavCost</td>\n",
       "      <td>7</td>\n",
       "    </tr>\n",
       "    <tr>\n",
       "      <th>301</th>\n",
       "      <td>76561197986829261</td>\n",
       "      <td>1</td>\n",
       "      <td>innocent</td>\n",
       "      <td>6</td>\n",
       "    </tr>\n",
       "    <tr>\n",
       "      <th>302</th>\n",
       "      <td>76561197976574229</td>\n",
       "      <td>1</td>\n",
       "      <td>zehN</td>\n",
       "      <td>3</td>\n",
       "    </tr>\n",
       "    <tr>\n",
       "      <th>303</th>\n",
       "      <td>76561197987053545</td>\n",
       "      <td>1</td>\n",
       "      <td>ub1que</td>\n",
       "      <td>2</td>\n",
       "    </tr>\n",
       "    <tr>\n",
       "      <th>304</th>\n",
       "      <td>76561197966075661</td>\n",
       "      <td>1</td>\n",
       "      <td>hooch</td>\n",
       "      <td>5</td>\n",
       "    </tr>\n",
       "  </tbody>\n",
       "</table>\n",
       "<p>305 rows × 4 columns</p>\n",
       "</div>"
      ],
      "text/plain": [
       "             SteamID64  roundsSurvived      name  apps\n",
       "0    76561198036125584             121      Jame    47\n",
       "1    76561198004854956              94   dupreeh   111\n",
       "2    76561198034202275              90    s1mple    75\n",
       "3    76561197987713664              76    device   109\n",
       "4    76561197972331023              75  GuardiaN    77\n",
       "..                 ...             ...       ...   ...\n",
       "300  76561197980539257               1   DavCost     7\n",
       "301  76561197986829261               1  innocent     6\n",
       "302  76561197976574229               1      zehN     3\n",
       "303  76561197987053545               1    ub1que     2\n",
       "304  76561197966075661               1     hooch     5\n",
       "\n",
       "[305 rows x 4 columns]"
      ]
     },
     "execution_count": 190,
     "metadata": {},
     "output_type": "execute_result"
    }
   ],
   "source": [
    "t = csgo_df.survivingPlayers.explode().value_counts().to_frame().reset_index(names=\"playerName\").rename(columns={\"playerName\":\"SteamID64\", \"survivingPlayers\": \"roundsSurvived\"}).merge(players_df)\n",
    "t"
   ]
  },
  {
   "cell_type": "code",
   "execution_count": 191,
   "metadata": {},
   "outputs": [
    {
     "data": {
      "text/html": [
       "<div>\n",
       "<style scoped>\n",
       "    .dataframe tbody tr th:only-of-type {\n",
       "        vertical-align: middle;\n",
       "    }\n",
       "\n",
       "    .dataframe tbody tr th {\n",
       "        vertical-align: top;\n",
       "    }\n",
       "\n",
       "    .dataframe thead th {\n",
       "        text-align: right;\n",
       "    }\n",
       "</style>\n",
       "<table border=\"1\" class=\"dataframe\">\n",
       "  <thead>\n",
       "    <tr style=\"text-align: right;\">\n",
       "      <th></th>\n",
       "      <th>name</th>\n",
       "    </tr>\n",
       "    <tr>\n",
       "      <th>roundsSurvived</th>\n",
       "      <th></th>\n",
       "    </tr>\n",
       "  </thead>\n",
       "  <tbody>\n",
       "    <tr>\n",
       "      <th>1</th>\n",
       "      <td>[HaRtsSsSsSs * ZOWIE GEAR, cent #ALIENWARE, AcilioN, Professor_Chaos, [R]eason EXR * SteelSeries, jR, Golden, zEVES, kNgV-, rallen, xartE, yam, DavCost, innocent, zehN, ub1que, hooch]</td>\n",
       "    </tr>\n",
       "    <tr>\n",
       "      <th>2</th>\n",
       "      <td>[rigoN, STYKO, WOLF &gt; RiTz, steel * ADATA, Furlan, SPUNJ MSi, Hyper, Havoc[K] MSi, GruBy, suNny, zqkS, USTILO, koosta, AZK * ASRock, iBP anger, krystaLAW *Platincasino, Troubley * WorldofCDKeys.com, smF, zonic, fel1x *Platincasino, EPSILON Sf * GAMDIAS, keshandr, oskar, THREAT, abE, DEVIL]</td>\n",
       "    </tr>\n",
       "    <tr>\n",
       "      <th>3</th>\n",
       "      <td>[SnypeR, Grim, pyth, SIXER, HS, LDLC.com KQLY Cooler Master, swag * Intel, SENER1, spaze, James, Zero, emagine, pita, svyat]</td>\n",
       "    </tr>\n",
       "    <tr>\n",
       "      <th>4</th>\n",
       "      <td>[doto, lauNX, mezii, DaZeD Netcodeguides.com, arya, CW Nico * Komplett, LEGIJA, LDLC.com Uzzziii Cooler Master, sinnopsyy, FNS, speed4k, mir, Lucky, kinqie, fR11$HAAA]</td>\n",
       "    </tr>\n",
       "    <tr>\n",
       "      <th>5</th>\n",
       "      <td>[Staehr, Cloud9 CS seM &lt;ALIENware&gt;, juanflatroo, XANTARES, cype * Gunnar Optics, Devilwalk.teg * Fragnet, faveN, HooXi, maden, disco doplan, peet, zews]</td>\n",
       "    </tr>\n",
       "    <tr>\n",
       "      <th>...</th>\n",
       "      <td>...</td>\n",
       "    </tr>\n",
       "    <tr>\n",
       "      <th>75</th>\n",
       "      <td>[GuardiaN]</td>\n",
       "    </tr>\n",
       "    <tr>\n",
       "      <th>76</th>\n",
       "      <td>[device]</td>\n",
       "    </tr>\n",
       "    <tr>\n",
       "      <th>90</th>\n",
       "      <td>[s1mple]</td>\n",
       "    </tr>\n",
       "    <tr>\n",
       "      <th>94</th>\n",
       "      <td>[dupreeh]</td>\n",
       "    </tr>\n",
       "    <tr>\n",
       "      <th>121</th>\n",
       "      <td>[Jame]</td>\n",
       "    </tr>\n",
       "  </tbody>\n",
       "</table>\n",
       "<p>67 rows × 1 columns</p>\n",
       "</div>"
      ],
      "text/plain": [
       "                                                                                                                                                                                                                                                                                                              name\n",
       "roundsSurvived                                                                                                                                                                                                                                                                                                    \n",
       "1                                                                                                                          [HaRtsSsSsSs * ZOWIE GEAR, cent #ALIENWARE, AcilioN, Professor_Chaos, [R]eason EXR * SteelSeries, jR, Golden, zEVES, kNgV-, rallen, xartE, yam, DavCost, innocent, zehN, ub1que, hooch]\n",
       "2               [rigoN, STYKO, WOLF > RiTz, steel * ADATA, Furlan, SPUNJ MSi, Hyper, Havoc[K] MSi, GruBy, suNny, zqkS, USTILO, koosta, AZK * ASRock, iBP anger, krystaLAW *Platincasino, Troubley * WorldofCDKeys.com, smF, zonic, fel1x *Platincasino, EPSILON Sf * GAMDIAS, keshandr, oskar, THREAT, abE, DEVIL]\n",
       "3                                                                                                                                                                                     [SnypeR, Grim, pyth, SIXER, HS, LDLC.com KQLY Cooler Master, swag * Intel, SENER1, spaze, James, Zero, emagine, pita, svyat]\n",
       "4                                                                                                                                          [doto, lauNX, mezii, DaZeD Netcodeguides.com, arya, CW Nico * Komplett, LEGIJA, LDLC.com Uzzziii Cooler Master, sinnopsyy, FNS, speed4k, mir, Lucky, kinqie, fR11$HAAA]\n",
       "5                                                                                                                                                         [Staehr, Cloud9 CS seM <ALIENware>, juanflatroo, XANTARES, cype * Gunnar Optics, Devilwalk.teg * Fragnet, faveN, HooXi, maden, disco doplan, peet, zews]\n",
       "...                                                                                                                                                                                                                                                                                                            ...\n",
       "75                                                                                                                                                                                                                                                                                                      [GuardiaN]\n",
       "76                                                                                                                                                                                                                                                                                                        [device]\n",
       "90                                                                                                                                                                                                                                                                                                        [s1mple]\n",
       "94                                                                                                                                                                                                                                                                                                       [dupreeh]\n",
       "121                                                                                                                                                                                                                                                                                                         [Jame]\n",
       "\n",
       "[67 rows x 1 columns]"
      ]
     },
     "execution_count": 191,
     "metadata": {},
     "output_type": "execute_result"
    }
   ],
   "source": [
    "t[['name', 'roundsSurvived']].groupby('roundsSurvived').agg(list)"
   ]
  },
  {
   "cell_type": "code",
   "execution_count": 192,
   "metadata": {},
   "outputs": [],
   "source": [
    "csgo_df['heTicks'] = csgo_df.heTicks.apply(lambda x: sorted(map(int, x[1:-1].split(','))) if x != \"null\" else [])\n",
    "csgo_df['heTicksRelative'] = csgo_df.apply(lambda x: [y-x.startTick for y in x.heTicks ], axis=1)\n"
   ]
  },
  {
   "cell_type": "code",
   "execution_count": 193,
   "metadata": {},
   "outputs": [
    {
     "data": {
      "text/plain": [
       "<Axes: xlabel='time'>"
      ]
     },
     "execution_count": 193,
     "metadata": {},
     "output_type": "execute_result"
    },
    {
     "data": {
      "image/png": "[encoded data removed]",
      "text/plain": [
       "<Figure size 640x480 with 1 Axes>"
      ]
     },
     "metadata": {},
     "output_type": "display_data"
    }
   ],
   "source": [
    "csgo_df[['time', 'heTicksRelative']].explode('heTicksRelative').resample(\"M\", on=\"time\").mean().dropna().plot()"
   ]
  }
 ],
 "metadata": {
  "kernelspec": {
   "display_name": ".venv",
   "language": "python",
   "name": "python3"
  },
  "language_info": {
   "codemirror_mode": {
    "name": "ipython",
    "version": 3
   },
   "file_extension": ".py",
   "mimetype": "text/x-python",
   "name": "python",
   "nbconvert_exporter": "python",
   "pygments_lexer": "ipython3",
   "version": "3.10.6"
  },
  "orig_nbformat": 4
 },
 "nbformat": 4,
 "nbformat_minor": 2
}
