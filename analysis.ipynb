{
 "cells": [
  {
   "cell_type": "code",
   "execution_count": 1,
   "metadata": {},
   "outputs": [],
   "source": [
    "import pandas as pd\n",
    "import numpy as np\n",
    "import matplotlib.pyplot as plt\n",
    "import sqlite3\n",
    "\n",
    "# Ingesting data\n",
    "con = sqlite3.connect(\"csgo.db\")\n",
    "csgo_df = pd.read_sql_query(\"SELECT * FROM round INNER JOIN game WHERE round.game_id = game.id\", con, parse_dates=[\"time\"])\n",
    "players_df = pd.read_sql_query(\"SELECT * from players\", con)\n",
    "csgo_df['time'] = pd.to_datetime(csgo_df['time'], utc=True)\n",
    "\n",
    "# Some Pandas visual display options to read the data\n",
    "pd.set_option('display.max_columns', None)\n",
    "pd.set_option('display.max_colwidth', None)"
   ]
  },
  {
   "attachments": {},
   "cell_type": "markdown",
   "metadata": {},
   "source": [
    "### Summary variables\n",
    "- Pre-processing the data to either convert it from \"JSON\" to a proper Python list.\n",
    "- Converting some data from absolute to relative (i.e. the ticks from the start of the round)\n",
    "- And then convert those data points into literal seconds, so we can see when an action took place within the context of a round"
   ]
  },
  {
   "cell_type": "code",
   "execution_count": 2,
   "metadata": {},
   "outputs": [],
   "source": [
    "csgo_df['survivingCount'] =  csgo_df.survivingPlayers.apply(lambda x: len(x[1:-1].split(',')) if x != 'null' else 0)\n",
    "\n",
    "csgo_df['longestKillWaitS'] = csgo_df['longestKillWait']/csgo_df['tickrate']\n",
    "csgo_df['lastKillToEndS'] = csgo_df['lastKillToEnd']/csgo_df['tickrate']\n",
    "\n",
    "csgo_df[\"team_a_players\"] = csgo_df.team_a_players.apply(lambda x: sorted(map(int, x[1:-1].split(','))))\n",
    "csgo_df[\"team_b_players\"] = csgo_df.team_b_players.apply(lambda x: sorted(map(int, x[1:-1].split(','))))\n",
    "csgo_df[\"losingPlayers\"] = np.where(csgo_df[\"losingTeamName\"] == csgo_df[\"team_a\"],  csgo_df[\"team_a_players\"], csgo_df[\"team_b_players\"])\n",
    "\n",
    "# Converting nade/kill ticks into relative datapoints \n",
    "csgo_df['heTicks'] = csgo_df.heTicks.apply(lambda x: sorted(map(int, x[1:-1].split(','))) if x != \"null\" else [])\n",
    "csgo_df['heTicksRelative'] = csgo_df.apply(lambda x: [((y-x.startTick)/x.tickrate) for y in x.heTicks ], axis=1)\n",
    "csgo_df['killTicksP'] = csgo_df.killTicks.apply(lambda x: sorted(map(int, x[1:-1].split(','))) if x != \"null\" else [])\n",
    "csgo_df['killTicksRelative'] = csgo_df.apply(lambda x: [((y-x.startTick)/x.tickrate) for y in x.killTicksP], axis=1)\n",
    "csgo_df['smokeTicks'] = csgo_df.smokeTicks.apply(lambda x: sorted(map(int, x[1:-1].split(','))) if x != \"null\" else [])\n",
    "csgo_df['smokeTicksRelative'] = csgo_df.apply(lambda x: [((y-x.startTick)/x.tickrate) for y in x.smokeTicks], axis=1)\n",
    "csgo_df['molotovTicks'] = csgo_df.molotovTicks.apply(lambda x: sorted(map(int, x[1:-1].split(','))) if x != \"null\" else [])\n",
    "csgo_df['molotovTicksRelative'] = csgo_df.apply(lambda x: [((y-x.startTick)/x.tickrate) for y in x.molotovTicks], axis=1)"
   ]
  },
  {
   "cell_type": "code",
   "execution_count": 3,
   "metadata": {},
   "outputs": [
    {
     "data": {
      "text/plain": [
       "''"
      ]
     },
     "execution_count": 3,
     "metadata": {},
     "output_type": "execute_result"
    }
   ],
   "source": [
    "csgo_df\n",
    ";"
   ]
  },
  {
   "attachments": {},
   "cell_type": "markdown",
   "metadata": {},
   "source": [
    "### Seasonal averages\n",
    "- Yearly and Monthly averages.\n",
    "- Monthly averages can get a bit skewed with the limited data set (as majors can spill across months), so yearly is used exclusively.\n"
   ]
  },
  {
   "cell_type": "code",
   "execution_count": 4,
   "metadata": {},
   "outputs": [
    {
     "name": "stderr",
     "output_type": "stream",
     "text": [
      "/tmp/ipykernel_22396/1524761603.py:2: FutureWarning: The default value of numeric_only in DataFrameGroupBy.mean is deprecated. In a future version, numeric_only will default to False. Either specify numeric_only or select only columns which should be valid for the function.\n",
      "  yearly_average.mean().dropna()\n"
     ]
    },
    {
     "data": {
      "text/plain": [
       "''"
      ]
     },
     "execution_count": 4,
     "metadata": {},
     "output_type": "execute_result"
    }
   ],
   "source": [
    "yearly_average = csgo_df.resample(\"Y\", on=\"time\")\n",
    "yearly_average.mean().dropna()\n",
    ";"
   ]
  },
  {
   "cell_type": "code",
   "execution_count": 5,
   "metadata": {},
   "outputs": [
    {
     "name": "stderr",
     "output_type": "stream",
     "text": [
      "/tmp/ipykernel_22396/330764374.py:2: FutureWarning: The default value of numeric_only in DataFrameGroupBy.mean is deprecated. In a future version, numeric_only will default to False. Either specify numeric_only or select only columns which should be valid for the function.\n",
      "  monthly_average.mean().dropna()\n"
     ]
    },
    {
     "data": {
      "text/plain": [
       "''"
      ]
     },
     "execution_count": 5,
     "metadata": {},
     "output_type": "execute_result"
    }
   ],
   "source": [
    "monthly_average = csgo_df.resample(\"M\", on=\"time\")\n",
    "monthly_average.mean().dropna()\n",
    ";"
   ]
  },
  {
   "attachments": {},
   "cell_type": "markdown",
   "metadata": {},
   "source": [
    "### Plotting basic data points"
   ]
  },
  {
   "attachments": {},
   "cell_type": "markdown",
   "metadata": {},
   "source": [
    "#### Average duration of a round"
   ]
  },
  {
   "cell_type": "code",
   "execution_count": 6,
   "metadata": {},
   "outputs": [
    {
     "name": "stderr",
     "output_type": "stream",
     "text": [
      "/tmp/ipykernel_22396/3068238999.py:1: FutureWarning: The default value of numeric_only in DataFrameGroupBy.mean is deprecated. In a future version, numeric_only will default to False. Either specify numeric_only or select only columns which should be valid for the function.\n",
      "  duration_plot = yearly_average[[\"time\", \"duration\"]].mean().dropna()\n"
     ]
    },
    {
     "data": {
      "text/plain": [
       "<Axes: xlabel='time'>"
      ]
     },
     "execution_count": 6,
     "metadata": {},
     "output_type": "execute_result"
    },
    {
     "data": {
      "image/png": "[encoded data removed]",
      "text/plain": [
       "<Figure size 640x480 with 1 Axes>"
      ]
     },
     "metadata": {},
     "output_type": "display_data"
    }
   ],
   "source": [
    "yearly_average[[\"time\", \"duration\"]].mean().dropna().plot()"
   ]
  },
  {
   "attachments": {},
   "cell_type": "markdown",
   "metadata": {},
   "source": [
    "#### Average number of players surviving at the end of a round (where end of a round is after the round outcome decided, but before the restart)"
   ]
  },
  {
   "cell_type": "code",
   "execution_count": 7,
   "metadata": {},
   "outputs": [
    {
     "name": "stderr",
     "output_type": "stream",
     "text": [
      "/tmp/ipykernel_22396/1793826543.py:1: FutureWarning: The default value of numeric_only in DataFrameGroupBy.mean is deprecated. In a future version, numeric_only will default to False. Either specify numeric_only or select only columns which should be valid for the function.\n",
      "  survivingp_plot = yearly_average[[\"time\", \"survivingCount\"]].mean().dropna()\n"
     ]
    },
    {
     "data": {
      "text/plain": [
       "<Axes: xlabel='time'>"
      ]
     },
     "execution_count": 7,
     "metadata": {},
     "output_type": "execute_result"
    },
    {
     "data": {
      "image/png": "[encoded data removed]",
      "text/plain": [
       "<Figure size 640x480 with 1 Axes>"
      ]
     },
     "metadata": {},
     "output_type": "display_data"
    }
   ],
   "source": [
    "yearly_average[[\"time\", \"survivingCount\"]].mean().dropna().plot()"
   ]
  },
  {
   "attachments": {},
   "cell_type": "markdown",
   "metadata": {},
   "source": [
    "#### Average damage from HE nades during a round\n",
    "The 2013/2014 data is suspect."
   ]
  },
  {
   "cell_type": "code",
   "execution_count": 8,
   "metadata": {},
   "outputs": [
    {
     "name": "stderr",
     "output_type": "stream",
     "text": [
      "/tmp/ipykernel_22396/3575802861.py:1: FutureWarning: The default value of numeric_only in DataFrameGroupBy.mean is deprecated. In a future version, numeric_only will default to False. Either specify numeric_only or select only columns which should be valid for the function.\n",
      "  yearly_average[['time', 'heDamage']].mean().dropna().plot()\n"
     ]
    },
    {
     "data": {
      "text/plain": [
       "<Axes: xlabel='time'>"
      ]
     },
     "execution_count": 8,
     "metadata": {},
     "output_type": "execute_result"
    },
    {
     "data": {
      "image/png": "[encoded data removed]",
      "text/plain": [
       "<Figure size 640x480 with 1 Axes>"
      ]
     },
     "metadata": {},
     "output_type": "display_data"
    }
   ],
   "source": [
    "yearly_average[['time', 'heDamage']].mean().dropna().plot()"
   ]
  },
  {
   "attachments": {},
   "cell_type": "markdown",
   "metadata": {},
   "source": [
    "#### The average longest duration between kills in a round"
   ]
  },
  {
   "cell_type": "code",
   "execution_count": 9,
   "metadata": {},
   "outputs": [
    {
     "name": "stderr",
     "output_type": "stream",
     "text": [
      "/tmp/ipykernel_22396/778477367.py:1: FutureWarning: The default value of numeric_only in DataFrameGroupBy.mean is deprecated. In a future version, numeric_only will default to False. Either specify numeric_only or select only columns which should be valid for the function.\n",
      "  longestkill_plot = yearly_average[[\"time\", \"longestKillWaitS\"]].mean().dropna()\n"
     ]
    },
    {
     "data": {
      "text/plain": [
       "<Axes: xlabel='time'>"
      ]
     },
     "execution_count": 9,
     "metadata": {},
     "output_type": "execute_result"
    },
    {
     "data": {
      "image/png": "[encoded data removed]",
      "text/plain": [
       "<Figure size 640x480 with 1 Axes>"
      ]
     },
     "metadata": {},
     "output_type": "display_data"
    }
   ],
   "source": [
    "yearly_average[[\"time\", \"longestKillWaitS\"]].mean().dropna().plot()"
   ]
  },
  {
   "attachments": {},
   "cell_type": "markdown",
   "metadata": {},
   "source": [
    "#### Average duration from the last kill to the end of a round"
   ]
  },
  {
   "cell_type": "code",
   "execution_count": 10,
   "metadata": {},
   "outputs": [
    {
     "name": "stderr",
     "output_type": "stream",
     "text": [
      "/tmp/ipykernel_22396/2229375578.py:1: FutureWarning: The default value of numeric_only in DataFrameGroupBy.mean is deprecated. In a future version, numeric_only will default to False. Either specify numeric_only or select only columns which should be valid for the function.\n",
      "  yearly_average[['time', 'lastKillToEndS']].mean().dropna().plot()\n"
     ]
    },
    {
     "data": {
      "text/plain": [
       "<Axes: xlabel='time'>"
      ]
     },
     "execution_count": 10,
     "metadata": {},
     "output_type": "execute_result"
    },
    {
     "data": {
      "image/png": "[encoded data removed]",
      "text/plain": [
       "<Figure size 640x480 with 1 Axes>"
      ]
     },
     "metadata": {},
     "output_type": "display_data"
    }
   ],
   "source": [
    "yearly_average[['time', 'lastKillToEndS']].mean().dropna().plot()"
   ]
  },
  {
   "attachments": {},
   "cell_type": "markdown",
   "metadata": {},
   "source": [
    "#### Average point of a kill in a round"
   ]
  },
  {
   "cell_type": "code",
   "execution_count": 12,
   "metadata": {},
   "outputs": [
    {
     "data": {
      "text/plain": [
       "<Axes: xlabel='time'>"
      ]
     },
     "execution_count": 12,
     "metadata": {},
     "output_type": "execute_result"
    },
    {
     "data": {
      "image/png": "[encoded data removed]",
      "text/plain": [
       "<Figure size 640x480 with 1 Axes>"
      ]
     },
     "metadata": {},
     "output_type": "display_data"
    }
   ],
   "source": [
    "csgo_df[['time', 'killTicksRelative']].explode('killTicksRelative').resample(\"Y\", on=\"time\").mean().dropna().plot()"
   ]
  },
  {
   "attachments": {},
   "cell_type": "markdown",
   "metadata": {},
   "source": [
    "#### Nade relative graphs"
   ]
  },
  {
   "cell_type": "code",
   "execution_count": 11,
   "metadata": {},
   "outputs": [
    {
     "data": {
      "text/plain": [
       "<Axes: xlabel='time'>"
      ]
     },
     "execution_count": 11,
     "metadata": {},
     "output_type": "execute_result"
    },
    {
     "data": {
      "image/png": "[encoded data removed]",
      "text/plain": [
       "<Figure size 640x480 with 1 Axes>"
      ]
     },
     "metadata": {},
     "output_type": "display_data"
    }
   ],
   "source": [
    "csgo_df[['time', 'heTicksRelative']].explode('heTicksRelative').resample(\"Y\", on=\"time\").mean().dropna().plot()"
   ]
  },
  {
   "cell_type": "code",
   "execution_count": 13,
   "metadata": {},
   "outputs": [
    {
     "data": {
      "text/plain": [
       "<Axes: xlabel='time'>"
      ]
     },
     "execution_count": 13,
     "metadata": {},
     "output_type": "execute_result"
    },
    {
     "data": {
      "image/png": "[encoded data removed]",
      "text/plain": [
       "<Figure size 640x480 with 1 Axes>"
      ]
     },
     "metadata": {},
     "output_type": "display_data"
    }
   ],
   "source": [
    "csgo_df[['time', 'smokeTicksRelative']].explode('smokeTicksRelative').resample(\"Y\", on=\"time\").mean().dropna().plot()"
   ]
  },
  {
   "cell_type": "code",
   "execution_count": 14,
   "metadata": {},
   "outputs": [
    {
     "data": {
      "text/plain": [
       "<Axes: xlabel='time'>"
      ]
     },
     "execution_count": 14,
     "metadata": {},
     "output_type": "execute_result"
    },
    {
     "data": {
      "image/png": "[encoded data removed]",
      "text/plain": [
       "<Figure size 640x480 with 1 Axes>"
      ]
     },
     "metadata": {},
     "output_type": "display_data"
    }
   ],
   "source": [
    "csgo_df[['time', 'molotovTicksRelative']].explode('molotovTicksRelative').resample(\"Y\", on=\"time\").mean().dropna().plot()"
   ]
  },
  {
   "attachments": {},
   "cell_type": "markdown",
   "metadata": {},
   "source": [
    "### Calculating the players that save the most"
   ]
  },
  {
   "cell_type": "code",
   "execution_count": 16,
   "metadata": {},
   "outputs": [
    {
     "data": {
      "text/plain": [
       "''"
      ]
     },
     "execution_count": 16,
     "metadata": {},
     "output_type": "execute_result"
    }
   ],
   "source": [
    "survivingRounds = csgo_df.loc[csgo_df[\"survivingCount\"] > 0]\n",
    "survivingRounds\n",
    ";"
   ]
  },
  {
   "attachments": {},
   "cell_type": "markdown",
   "metadata": {},
   "source": [
    "This is not a list of the most saved players - it is a list of players on teams that save the most. \n",
    "\n",
    "dupreeh hasn't saved 235 times, the teams he's been on have.\n"
   ]
  },
  {
   "cell_type": "code",
   "execution_count": 17,
   "metadata": {},
   "outputs": [
    {
     "data": {
      "text/html": [
       "<div>\n",
       "<style scoped>\n",
       "    .dataframe tbody tr th:only-of-type {\n",
       "        vertical-align: middle;\n",
       "    }\n",
       "\n",
       "    .dataframe tbody tr th {\n",
       "        vertical-align: top;\n",
       "    }\n",
       "\n",
       "    .dataframe thead th {\n",
       "        text-align: right;\n",
       "    }\n",
       "</style>\n",
       "<table border=\"1\" class=\"dataframe\">\n",
       "  <thead>\n",
       "    <tr style=\"text-align: right;\">\n",
       "      <th></th>\n",
       "      <th>name</th>\n",
       "    </tr>\n",
       "    <tr>\n",
       "      <th>roundsSaved</th>\n",
       "      <th></th>\n",
       "    </tr>\n",
       "  </thead>\n",
       "  <tbody>\n",
       "    <tr>\n",
       "      <th>1</th>\n",
       "      <td>[Detrony #INTEL, HUNDEN, natu, deviaNt #COREX, KHRN, disturbed, stonde, xartE, racno-.`SGMF.&lt;..&gt;, cent #ALIENWARE, blackpoisoN #RAZER, AcilioN]</td>\n",
       "    </tr>\n",
       "    <tr>\n",
       "      <th>2</th>\n",
       "      <td>[desi, WOLF &gt; astaRRRRR, WOLF &gt; RiTz, WOLF &gt; Mithil:D, WOLF &gt; Ace, WOLF &gt; R i X, oSee]</td>\n",
       "    </tr>\n",
       "    <tr>\n",
       "      <th>3</th>\n",
       "      <td>[ptr, steel * ADATA, ub1que, yam, zEVES, Polly * XTRFY]</td>\n",
       "    </tr>\n",
       "    <tr>\n",
       "      <th>4</th>\n",
       "      <td>[DEVIL, THREAT]</td>\n",
       "    </tr>\n",
       "    <tr>\n",
       "      <th>5</th>\n",
       "      <td>[rallen, Hyper, Furlan, koosta, pita, [R]eason EXR * SteelSeries, HS, zehN, innocent, suNny, peet, GruBy, [R]eason LOMME * SteelSeries]</td>\n",
       "    </tr>\n",
       "    <tr>\n",
       "      <th>...</th>\n",
       "      <td>...</td>\n",
       "    </tr>\n",
       "    <tr>\n",
       "      <th>212</th>\n",
       "      <td>[Zeus]</td>\n",
       "    </tr>\n",
       "    <tr>\n",
       "      <th>216</th>\n",
       "      <td>[olofmeister]</td>\n",
       "    </tr>\n",
       "    <tr>\n",
       "      <th>228</th>\n",
       "      <td>[s1mple]</td>\n",
       "    </tr>\n",
       "    <tr>\n",
       "      <th>257</th>\n",
       "      <td>[dupreeh]</td>\n",
       "    </tr>\n",
       "    <tr>\n",
       "      <th>289</th>\n",
       "      <td>[Jame, Qikert]</td>\n",
       "    </tr>\n",
       "  </tbody>\n",
       "</table>\n",
       "<p>120 rows × 1 columns</p>\n",
       "</div>"
      ],
      "text/plain": [
       "                                                                                                                                                        name\n",
       "roundsSaved                                                                                                                                                 \n",
       "1            [Detrony #INTEL, HUNDEN, natu, deviaNt #COREX, KHRN, disturbed, stonde, xartE, racno-.`SGMF.<..>, cent #ALIENWARE, blackpoisoN #RAZER, AcilioN]\n",
       "2                                                                     [desi, WOLF > astaRRRRR, WOLF > RiTz, WOLF > Mithil:D, WOLF > Ace, WOLF > R i X, oSee]\n",
       "3                                                                                                    [ptr, steel * ADATA, ub1que, yam, zEVES, Polly * XTRFY]\n",
       "4                                                                                                                                            [DEVIL, THREAT]\n",
       "5                    [rallen, Hyper, Furlan, koosta, pita, [R]eason EXR * SteelSeries, HS, zehN, innocent, suNny, peet, GruBy, [R]eason LOMME * SteelSeries]\n",
       "...                                                                                                                                                      ...\n",
       "212                                                                                                                                                   [Zeus]\n",
       "216                                                                                                                                            [olofmeister]\n",
       "228                                                                                                                                                 [s1mple]\n",
       "257                                                                                                                                                [dupreeh]\n",
       "289                                                                                                                                           [Jame, Qikert]\n",
       "\n",
       "[120 rows x 1 columns]"
      ]
     },
     "execution_count": 17,
     "metadata": {},
     "output_type": "execute_result"
    }
   ],
   "source": [
    "survivingRounds.losingPlayers.explode().value_counts().to_frame().reset_index().rename(columns={\"index\":\"SteamID64\", \"losingPlayers\": \"roundsSaved\"}).merge(players_df)[['name', 'roundsSaved']].groupby('roundsSaved').agg(list)"
   ]
  },
  {
   "attachments": {},
   "cell_type": "markdown",
   "metadata": {},
   "source": [
    "#### Players that have saved the most "
   ]
  },
  {
   "cell_type": "code",
   "execution_count": 18,
   "metadata": {},
   "outputs": [],
   "source": [
    "csgo_df[\"survivingPlayers\"] = csgo_df.survivingPlayers.apply(lambda x: sorted(map(int, x[1:-1].split(','))) if x != 'null' else None)\n",
    "savingPlayers = csgo_df.survivingPlayers.explode().value_counts().to_frame().reset_index(names=\"SteamID64\").rename(columns={\"survivingPlayers\": \"roundsSurvived\"}).merge(players_df)"
   ]
  },
  {
   "cell_type": "code",
   "execution_count": 20,
   "metadata": {},
   "outputs": [
    {
     "data": {
      "text/html": [
       "<div>\n",
       "<style scoped>\n",
       "    .dataframe tbody tr th:only-of-type {\n",
       "        vertical-align: middle;\n",
       "    }\n",
       "\n",
       "    .dataframe tbody tr th {\n",
       "        vertical-align: top;\n",
       "    }\n",
       "\n",
       "    .dataframe thead th {\n",
       "        text-align: right;\n",
       "    }\n",
       "</style>\n",
       "<table border=\"1\" class=\"dataframe\">\n",
       "  <thead>\n",
       "    <tr style=\"text-align: right;\">\n",
       "      <th></th>\n",
       "      <th>name</th>\n",
       "    </tr>\n",
       "    <tr>\n",
       "      <th>roundsSurvived</th>\n",
       "      <th></th>\n",
       "    </tr>\n",
       "  </thead>\n",
       "  <tbody>\n",
       "    <tr>\n",
       "      <th>1</th>\n",
       "      <td>[HaRtsSsSsSs * ZOWIE GEAR, AcilioN, Professor_Chaos, STYKO, cent #ALIENWARE, [R]eason EXR * SteelSeries, zehN, DEVIL, zEVES, Golden, rallen, GruBy, innocent, xartE, SENER1, yam, LEGIJA, ub1que, rigoN, DavCost, jR, hooch]</td>\n",
       "    </tr>\n",
       "    <tr>\n",
       "      <th>2</th>\n",
       "      <td>[Hyper, pyth, fel1x *Platincasino, Furlan, smF, zqkS, koosta, iBP anger, AZK * ASRock, zonic, krystaLAW *Platincasino, Troubley * WorldofCDKeys.com, EPSILON Sf * GAMDIAS, oskar, abE, steel * ADATA, THREAT, Havoc[K] MSi, SPUNJ MSi, USTILO, suNny, WOLF &gt; RiTz, keshandr, SIXER]</td>\n",
       "    </tr>\n",
       "    <tr>\n",
       "      <th>3</th>\n",
       "      <td>[lauNX, sinnopsyy, juanflatroo, LDLC.com KQLY Cooler Master, svyat, Zero, SnypeR, James, emagine, HS, keev, pita, spaze, swag * Intel]</td>\n",
       "    </tr>\n",
       "    <tr>\n",
       "      <th>4</th>\n",
       "      <td>[XANTARES, Zellsis, daps, CW Nico * Komplett, DaZeD Netcodeguides.com, Staehr, FNS, LDLC.com Uzzziii Cooler Master, arya, Lucky, gade, peet, mir, doto, cype * Gunnar Optics, zews, ANNIHILATION, speed4k, kinqie, fR11$HAAA]</td>\n",
       "    </tr>\n",
       "    <tr>\n",
       "      <th>5</th>\n",
       "      <td>[maden, Cloud9 CS seM &lt;ALIENware&gt;, JT, tiziaN, Pimp, disco doplan, Devilwalk.teg * Fragnet]</td>\n",
       "    </tr>\n",
       "    <tr>\n",
       "      <th>...</th>\n",
       "      <td>...</td>\n",
       "    </tr>\n",
       "    <tr>\n",
       "      <th>82</th>\n",
       "      <td>[NAF]</td>\n",
       "    </tr>\n",
       "    <tr>\n",
       "      <th>87</th>\n",
       "      <td>[cadiaN]</td>\n",
       "    </tr>\n",
       "    <tr>\n",
       "      <th>91</th>\n",
       "      <td>[Qikert]</td>\n",
       "    </tr>\n",
       "    <tr>\n",
       "      <th>101</th>\n",
       "      <td>[s1mple, dupreeh]</td>\n",
       "    </tr>\n",
       "    <tr>\n",
       "      <th>170</th>\n",
       "      <td>[Jame]</td>\n",
       "    </tr>\n",
       "  </tbody>\n",
       "</table>\n",
       "<p>65 rows × 1 columns</p>\n",
       "</div>"
      ],
      "text/plain": [
       "                                                                                                                                                                                                                                                                                               name\n",
       "roundsSurvived                                                                                                                                                                                                                                                                                     \n",
       "1                                                                      [HaRtsSsSsSs * ZOWIE GEAR, AcilioN, Professor_Chaos, STYKO, cent #ALIENWARE, [R]eason EXR * SteelSeries, zehN, DEVIL, zEVES, Golden, rallen, GruBy, innocent, xartE, SENER1, yam, LEGIJA, ub1que, rigoN, DavCost, jR, hooch]\n",
       "2               [Hyper, pyth, fel1x *Platincasino, Furlan, smF, zqkS, koosta, iBP anger, AZK * ASRock, zonic, krystaLAW *Platincasino, Troubley * WorldofCDKeys.com, EPSILON Sf * GAMDIAS, oskar, abE, steel * ADATA, THREAT, Havoc[K] MSi, SPUNJ MSi, USTILO, suNny, WOLF > RiTz, keshandr, SIXER]\n",
       "3                                                                                                                                                            [lauNX, sinnopsyy, juanflatroo, LDLC.com KQLY Cooler Master, svyat, Zero, SnypeR, James, emagine, HS, keev, pita, spaze, swag * Intel]\n",
       "4                                                                     [XANTARES, Zellsis, daps, CW Nico * Komplett, DaZeD Netcodeguides.com, Staehr, FNS, LDLC.com Uzzziii Cooler Master, arya, Lucky, gade, peet, mir, doto, cype * Gunnar Optics, zews, ANNIHILATION, speed4k, kinqie, fR11$HAAA]\n",
       "5                                                                                                                                                                                                       [maden, Cloud9 CS seM <ALIENware>, JT, tiziaN, Pimp, disco doplan, Devilwalk.teg * Fragnet]\n",
       "...                                                                                                                                                                                                                                                                                             ...\n",
       "82                                                                                                                                                                                                                                                                                            [NAF]\n",
       "87                                                                                                                                                                                                                                                                                         [cadiaN]\n",
       "91                                                                                                                                                                                                                                                                                         [Qikert]\n",
       "101                                                                                                                                                                                                                                                                               [s1mple, dupreeh]\n",
       "170                                                                                                                                                                                                                                                                                          [Jame]\n",
       "\n",
       "[65 rows x 1 columns]"
      ]
     },
     "execution_count": 20,
     "metadata": {},
     "output_type": "execute_result"
    }
   ],
   "source": [
    "savingPlayers[['name', 'roundsSurvived']].groupby('roundsSurvived').agg(list)"
   ]
  },
  {
   "attachments": {},
   "cell_type": "markdown",
   "metadata": {},
   "source": [
    "### Calculating the ratio of appearances within the dataset, and the amount they save"
   ]
  },
  {
   "cell_type": "code",
   "execution_count": 21,
   "metadata": {},
   "outputs": [],
   "source": [
    "savingPlayers['mostSaved'] = savingPlayers['roundsSurvived']/savingPlayers['apps']"
   ]
  },
  {
   "attachments": {},
   "cell_type": "markdown",
   "metadata": {},
   "source": [
    "#### Players with the lowest survival/appearances ratio, with a minimum of 20 maps played"
   ]
  },
  {
   "cell_type": "code",
   "execution_count": 22,
   "metadata": {},
   "outputs": [
    {
     "data": {
      "text/html": [
       "<div>\n",
       "<style scoped>\n",
       "    .dataframe tbody tr th:only-of-type {\n",
       "        vertical-align: middle;\n",
       "    }\n",
       "\n",
       "    .dataframe tbody tr th {\n",
       "        vertical-align: top;\n",
       "    }\n",
       "\n",
       "    .dataframe thead th {\n",
       "        text-align: right;\n",
       "    }\n",
       "</style>\n",
       "<table border=\"1\" class=\"dataframe\">\n",
       "  <thead>\n",
       "    <tr style=\"text-align: right;\">\n",
       "      <th></th>\n",
       "      <th>name</th>\n",
       "      <th>apps</th>\n",
       "      <th>roundsSurvived</th>\n",
       "      <th>mostSaved</th>\n",
       "    </tr>\n",
       "  </thead>\n",
       "  <tbody>\n",
       "    <tr>\n",
       "      <th>234</th>\n",
       "      <td>Cloud9 CS seM &lt;ALIENware&gt;</td>\n",
       "      <td>28</td>\n",
       "      <td>5</td>\n",
       "      <td>0.178571</td>\n",
       "    </tr>\n",
       "    <tr>\n",
       "      <th>247</th>\n",
       "      <td>LDLC.com Uzzziii Cooler Master</td>\n",
       "      <td>22</td>\n",
       "      <td>4</td>\n",
       "      <td>0.181818</td>\n",
       "    </tr>\n",
       "    <tr>\n",
       "      <th>230</th>\n",
       "      <td>ANGE1</td>\n",
       "      <td>28</td>\n",
       "      <td>6</td>\n",
       "      <td>0.214286</td>\n",
       "    </tr>\n",
       "    <tr>\n",
       "      <th>114</th>\n",
       "      <td>friberg</td>\n",
       "      <td>87</td>\n",
       "      <td>19</td>\n",
       "      <td>0.218391</td>\n",
       "    </tr>\n",
       "    <tr>\n",
       "      <th>232</th>\n",
       "      <td>B1ad3</td>\n",
       "      <td>26</td>\n",
       "      <td>6</td>\n",
       "      <td>0.230769</td>\n",
       "    </tr>\n",
       "    <tr>\n",
       "      <th>133</th>\n",
       "      <td>dennis</td>\n",
       "      <td>67</td>\n",
       "      <td>16</td>\n",
       "      <td>0.238806</td>\n",
       "    </tr>\n",
       "    <tr>\n",
       "      <th>219</th>\n",
       "      <td>FeTiSh[MB]</td>\n",
       "      <td>28</td>\n",
       "      <td>7</td>\n",
       "      <td>0.250000</td>\n",
       "    </tr>\n",
       "    <tr>\n",
       "      <th>214</th>\n",
       "      <td>MSL</td>\n",
       "      <td>26</td>\n",
       "      <td>7</td>\n",
       "      <td>0.269231</td>\n",
       "    </tr>\n",
       "    <tr>\n",
       "      <th>109</th>\n",
       "      <td>byali</td>\n",
       "      <td>78</td>\n",
       "      <td>21</td>\n",
       "      <td>0.269231</td>\n",
       "    </tr>\n",
       "    <tr>\n",
       "      <th>117</th>\n",
       "      <td>pronax</td>\n",
       "      <td>70</td>\n",
       "      <td>19</td>\n",
       "      <td>0.271429</td>\n",
       "    </tr>\n",
       "    <tr>\n",
       "      <th>77</th>\n",
       "      <td>f0rest</td>\n",
       "      <td>101</td>\n",
       "      <td>28</td>\n",
       "      <td>0.277228</td>\n",
       "    </tr>\n",
       "    <tr>\n",
       "      <th>179</th>\n",
       "      <td>Maikelele</td>\n",
       "      <td>35</td>\n",
       "      <td>10</td>\n",
       "      <td>0.285714</td>\n",
       "    </tr>\n",
       "    <tr>\n",
       "      <th>210</th>\n",
       "      <td>tarik</td>\n",
       "      <td>25</td>\n",
       "      <td>8</td>\n",
       "      <td>0.320000</td>\n",
       "    </tr>\n",
       "    <tr>\n",
       "      <th>218</th>\n",
       "      <td>znajder</td>\n",
       "      <td>21</td>\n",
       "      <td>7</td>\n",
       "      <td>0.333333</td>\n",
       "    </tr>\n",
       "    <tr>\n",
       "      <th>216</th>\n",
       "      <td>kucherYL</td>\n",
       "      <td>21</td>\n",
       "      <td>7</td>\n",
       "      <td>0.333333</td>\n",
       "    </tr>\n",
       "    <tr>\n",
       "      <th>75</th>\n",
       "      <td>NEO</td>\n",
       "      <td>83</td>\n",
       "      <td>28</td>\n",
       "      <td>0.337349</td>\n",
       "    </tr>\n",
       "    <tr>\n",
       "      <th>154</th>\n",
       "      <td>Fifflaren AKRACING</td>\n",
       "      <td>41</td>\n",
       "      <td>14</td>\n",
       "      <td>0.341463</td>\n",
       "    </tr>\n",
       "    <tr>\n",
       "      <th>208</th>\n",
       "      <td>twist</td>\n",
       "      <td>21</td>\n",
       "      <td>8</td>\n",
       "      <td>0.380952</td>\n",
       "    </tr>\n",
       "    <tr>\n",
       "      <th>71</th>\n",
       "      <td>NBK-</td>\n",
       "      <td>79</td>\n",
       "      <td>31</td>\n",
       "      <td>0.392405</td>\n",
       "    </tr>\n",
       "    <tr>\n",
       "      <th>172</th>\n",
       "      <td>HooXi</td>\n",
       "      <td>28</td>\n",
       "      <td>11</td>\n",
       "      <td>0.392857</td>\n",
       "    </tr>\n",
       "  </tbody>\n",
       "</table>\n",
       "</div>"
      ],
      "text/plain": [
       "                               name  apps  roundsSurvived  mostSaved\n",
       "234       Cloud9 CS seM <ALIENware>    28               5   0.178571\n",
       "247  LDLC.com Uzzziii Cooler Master    22               4   0.181818\n",
       "230                           ANGE1    28               6   0.214286\n",
       "114                         friberg    87              19   0.218391\n",
       "232                           B1ad3    26               6   0.230769\n",
       "133                          dennis    67              16   0.238806\n",
       "219                      FeTiSh[MB]    28               7   0.250000\n",
       "214                             MSL    26               7   0.269231\n",
       "109                           byali    78              21   0.269231\n",
       "117                          pronax    70              19   0.271429\n",
       "77                           f0rest   101              28   0.277228\n",
       "179                       Maikelele    35              10   0.285714\n",
       "210                           tarik    25               8   0.320000\n",
       "218                         znajder    21               7   0.333333\n",
       "216                        kucherYL    21               7   0.333333\n",
       "75                              NEO    83              28   0.337349\n",
       "154              Fifflaren AKRACING    41              14   0.341463\n",
       "208                           twist    21               8   0.380952\n",
       "71                             NBK-    79              31   0.392405\n",
       "172                           HooXi    28              11   0.392857"
      ]
     },
     "execution_count": 22,
     "metadata": {},
     "output_type": "execute_result"
    }
   ],
   "source": [
    "savingPlayers.loc[savingPlayers['apps'] > 20 ].sort_values(by='mostSaved').head(20)[['name', 'apps', 'roundsSurvived', 'mostSaved']]"
   ]
  },
  {
   "attachments": {},
   "cell_type": "markdown",
   "metadata": {},
   "source": [
    "#### Players with the highest survival/appearances ratio, with a minimum of 20 maps played"
   ]
  },
  {
   "cell_type": "code",
   "execution_count": 23,
   "metadata": {},
   "outputs": [
    {
     "data": {
      "text/html": [
       "<div>\n",
       "<style scoped>\n",
       "    .dataframe tbody tr th:only-of-type {\n",
       "        vertical-align: middle;\n",
       "    }\n",
       "\n",
       "    .dataframe tbody tr th {\n",
       "        vertical-align: top;\n",
       "    }\n",
       "\n",
       "    .dataframe thead th {\n",
       "        text-align: right;\n",
       "    }\n",
       "</style>\n",
       "<table border=\"1\" class=\"dataframe\">\n",
       "  <thead>\n",
       "    <tr style=\"text-align: right;\">\n",
       "      <th></th>\n",
       "      <th>name</th>\n",
       "      <th>apps</th>\n",
       "      <th>roundsSurvived</th>\n",
       "      <th>mostSaved</th>\n",
       "    </tr>\n",
       "  </thead>\n",
       "  <tbody>\n",
       "    <tr>\n",
       "      <th>0</th>\n",
       "      <td>Jame</td>\n",
       "      <td>60</td>\n",
       "      <td>170</td>\n",
       "      <td>2.833333</td>\n",
       "    </tr>\n",
       "    <tr>\n",
       "      <th>21</th>\n",
       "      <td>sh1ro</td>\n",
       "      <td>21</td>\n",
       "      <td>53</td>\n",
       "      <td>2.523810</td>\n",
       "    </tr>\n",
       "    <tr>\n",
       "      <th>8</th>\n",
       "      <td>frozen</td>\n",
       "      <td>34</td>\n",
       "      <td>72</td>\n",
       "      <td>2.117647</td>\n",
       "    </tr>\n",
       "    <tr>\n",
       "      <th>36</th>\n",
       "      <td>fame</td>\n",
       "      <td>25</td>\n",
       "      <td>45</td>\n",
       "      <td>1.800000</td>\n",
       "    </tr>\n",
       "    <tr>\n",
       "      <th>10</th>\n",
       "      <td>buster</td>\n",
       "      <td>39</td>\n",
       "      <td>68</td>\n",
       "      <td>1.743590</td>\n",
       "    </tr>\n",
       "    <tr>\n",
       "      <th>11</th>\n",
       "      <td>FL1T</td>\n",
       "      <td>40</td>\n",
       "      <td>68</td>\n",
       "      <td>1.700000</td>\n",
       "    </tr>\n",
       "    <tr>\n",
       "      <th>5</th>\n",
       "      <td>NAF</td>\n",
       "      <td>49</td>\n",
       "      <td>82</td>\n",
       "      <td>1.673469</td>\n",
       "    </tr>\n",
       "    <tr>\n",
       "      <th>50</th>\n",
       "      <td>oSee</td>\n",
       "      <td>23</td>\n",
       "      <td>38</td>\n",
       "      <td>1.652174</td>\n",
       "    </tr>\n",
       "    <tr>\n",
       "      <th>4</th>\n",
       "      <td>cadiaN</td>\n",
       "      <td>53</td>\n",
       "      <td>87</td>\n",
       "      <td>1.641509</td>\n",
       "    </tr>\n",
       "    <tr>\n",
       "      <th>60</th>\n",
       "      <td>Liazz</td>\n",
       "      <td>23</td>\n",
       "      <td>36</td>\n",
       "      <td>1.565217</td>\n",
       "    </tr>\n",
       "    <tr>\n",
       "      <th>52</th>\n",
       "      <td>drop</td>\n",
       "      <td>25</td>\n",
       "      <td>38</td>\n",
       "      <td>1.520000</td>\n",
       "    </tr>\n",
       "    <tr>\n",
       "      <th>3</th>\n",
       "      <td>Qikert</td>\n",
       "      <td>60</td>\n",
       "      <td>91</td>\n",
       "      <td>1.516667</td>\n",
       "    </tr>\n",
       "    <tr>\n",
       "      <th>42</th>\n",
       "      <td>JaCkz</td>\n",
       "      <td>31</td>\n",
       "      <td>43</td>\n",
       "      <td>1.387097</td>\n",
       "    </tr>\n",
       "    <tr>\n",
       "      <th>41</th>\n",
       "      <td>nicoodoz</td>\n",
       "      <td>32</td>\n",
       "      <td>44</td>\n",
       "      <td>1.375000</td>\n",
       "    </tr>\n",
       "    <tr>\n",
       "      <th>64</th>\n",
       "      <td>KSCERATO</td>\n",
       "      <td>25</td>\n",
       "      <td>34</td>\n",
       "      <td>1.360000</td>\n",
       "    </tr>\n",
       "    <tr>\n",
       "      <th>26</th>\n",
       "      <td>Perfecto</td>\n",
       "      <td>37</td>\n",
       "      <td>50</td>\n",
       "      <td>1.351351</td>\n",
       "    </tr>\n",
       "    <tr>\n",
       "      <th>69</th>\n",
       "      <td>Spinx</td>\n",
       "      <td>25</td>\n",
       "      <td>32</td>\n",
       "      <td>1.280000</td>\n",
       "    </tr>\n",
       "    <tr>\n",
       "      <th>79</th>\n",
       "      <td>S1ren</td>\n",
       "      <td>22</td>\n",
       "      <td>28</td>\n",
       "      <td>1.272727</td>\n",
       "    </tr>\n",
       "    <tr>\n",
       "      <th>24</th>\n",
       "      <td>ropz</td>\n",
       "      <td>41</td>\n",
       "      <td>51</td>\n",
       "      <td>1.243902</td>\n",
       "    </tr>\n",
       "    <tr>\n",
       "      <th>83</th>\n",
       "      <td>magixx</td>\n",
       "      <td>22</td>\n",
       "      <td>27</td>\n",
       "      <td>1.227273</td>\n",
       "    </tr>\n",
       "  </tbody>\n",
       "</table>\n",
       "</div>"
      ],
      "text/plain": [
       "        name  apps  roundsSurvived  mostSaved\n",
       "0       Jame    60             170   2.833333\n",
       "21     sh1ro    21              53   2.523810\n",
       "8     frozen    34              72   2.117647\n",
       "36      fame    25              45   1.800000\n",
       "10    buster    39              68   1.743590\n",
       "11      FL1T    40              68   1.700000\n",
       "5        NAF    49              82   1.673469\n",
       "50      oSee    23              38   1.652174\n",
       "4     cadiaN    53              87   1.641509\n",
       "60     Liazz    23              36   1.565217\n",
       "52      drop    25              38   1.520000\n",
       "3     Qikert    60              91   1.516667\n",
       "42     JaCkz    31              43   1.387097\n",
       "41  nicoodoz    32              44   1.375000\n",
       "64  KSCERATO    25              34   1.360000\n",
       "26  Perfecto    37              50   1.351351\n",
       "69     Spinx    25              32   1.280000\n",
       "79     S1ren    22              28   1.272727\n",
       "24      ropz    41              51   1.243902\n",
       "83    magixx    22              27   1.227273"
      ]
     },
     "execution_count": 23,
     "metadata": {},
     "output_type": "execute_result"
    }
   ],
   "source": [
    "savingPlayers.loc[savingPlayers['apps'] > 20 ].sort_values(by='mostSaved', ascending=False).head(20)[['name', 'apps', 'roundsSurvived', 'mostSaved']]"
   ]
  },
  {
   "cell_type": "code",
   "execution_count": 24,
   "metadata": {},
   "outputs": [
    {
     "data": {
      "text/html": [
       "<div>\n",
       "<style scoped>\n",
       "    .dataframe tbody tr th:only-of-type {\n",
       "        vertical-align: middle;\n",
       "    }\n",
       "\n",
       "    .dataframe tbody tr th {\n",
       "        vertical-align: top;\n",
       "    }\n",
       "\n",
       "    .dataframe thead th {\n",
       "        text-align: right;\n",
       "    }\n",
       "</style>\n",
       "<table border=\"1\" class=\"dataframe\">\n",
       "  <thead>\n",
       "    <tr style=\"text-align: right;\">\n",
       "      <th></th>\n",
       "      <th>SteamID64</th>\n",
       "      <th>roundsPlayed</th>\n",
       "      <th>name</th>\n",
       "      <th>apps</th>\n",
       "    </tr>\n",
       "  </thead>\n",
       "  <tbody>\n",
       "    <tr>\n",
       "      <th>0</th>\n",
       "      <td>76561198004854956</td>\n",
       "      <td>1352</td>\n",
       "      <td>dupreeh</td>\n",
       "      <td>126</td>\n",
       "    </tr>\n",
       "    <tr>\n",
       "      <th>1</th>\n",
       "      <td>76561197988627193</td>\n",
       "      <td>1276</td>\n",
       "      <td>olofmeister</td>\n",
       "      <td>115</td>\n",
       "    </tr>\n",
       "    <tr>\n",
       "      <th>2</th>\n",
       "      <td>76561197989744167</td>\n",
       "      <td>1256</td>\n",
       "      <td>apEX</td>\n",
       "      <td>101</td>\n",
       "    </tr>\n",
       "    <tr>\n",
       "      <th>3</th>\n",
       "      <td>76561198031651584</td>\n",
       "      <td>1190</td>\n",
       "      <td>KRIMZ</td>\n",
       "      <td>108</td>\n",
       "    </tr>\n",
       "    <tr>\n",
       "      <th>4</th>\n",
       "      <td>76561197987713664</td>\n",
       "      <td>1181</td>\n",
       "      <td>device</td>\n",
       "      <td>114</td>\n",
       "    </tr>\n",
       "    <tr>\n",
       "      <th>...</th>\n",
       "      <td>...</td>\n",
       "      <td>...</td>\n",
       "      <td>...</td>\n",
       "      <td>...</td>\n",
       "    </tr>\n",
       "    <tr>\n",
       "      <th>368</th>\n",
       "      <td>76561197969523758</td>\n",
       "      <td>2</td>\n",
       "      <td>Xapso ultra * Tesoro</td>\n",
       "      <td>2</td>\n",
       "    </tr>\n",
       "    <tr>\n",
       "      <th>369</th>\n",
       "      <td>76561198106952899</td>\n",
       "      <td>2</td>\n",
       "      <td>Zeus =D</td>\n",
       "      <td>2</td>\n",
       "    </tr>\n",
       "    <tr>\n",
       "      <th>370</th>\n",
       "      <td>76561198106938586</td>\n",
       "      <td>2</td>\n",
       "      <td>kibaken</td>\n",
       "      <td>2</td>\n",
       "    </tr>\n",
       "    <tr>\n",
       "      <th>371</th>\n",
       "      <td>76561197989686129</td>\n",
       "      <td>2</td>\n",
       "      <td>-F.C-* nyxJ|uK *</td>\n",
       "      <td>2</td>\n",
       "    </tr>\n",
       "    <tr>\n",
       "      <th>372</th>\n",
       "      <td>76561198004438215</td>\n",
       "      <td>2</td>\n",
       "      <td>SK.Delpan =DDD</td>\n",
       "      <td>2</td>\n",
       "    </tr>\n",
       "  </tbody>\n",
       "</table>\n",
       "<p>373 rows × 4 columns</p>\n",
       "</div>"
      ],
      "text/plain": [
       "             SteamID64  roundsPlayed                  name  apps\n",
       "0    76561198004854956          1352               dupreeh   126\n",
       "1    76561197988627193          1276           olofmeister   115\n",
       "2    76561197989744167          1256                  apEX   101\n",
       "3    76561198031651584          1190                 KRIMZ   108\n",
       "4    76561197987713664          1181                device   114\n",
       "..                 ...           ...                   ...   ...\n",
       "368  76561197969523758             2  Xapso ultra * Tesoro     2\n",
       "369  76561198106952899             2               Zeus =D     2\n",
       "370  76561198106938586             2               kibaken     2\n",
       "371  76561197989686129             2      -F.C-* nyxJ|uK *     2\n",
       "372  76561198004438215             2        SK.Delpan =DDD     2\n",
       "\n",
       "[373 rows x 4 columns]"
      ]
     },
     "execution_count": 24,
     "metadata": {},
     "output_type": "execute_result"
    }
   ],
   "source": [
    "csgo_df.losingPlayers.explode().value_counts().to_frame().reset_index().rename(columns={\"index\":\"SteamID64\", \"losingPlayers\": \"roundsPlayed\"}).merge(players_df)\n"
   ]
  },
  {
   "attachments": {},
   "cell_type": "markdown",
   "metadata": {},
   "source": [
    "## Players that take the most amount of time to lose"
   ]
  },
  {
   "cell_type": "code",
   "execution_count": 25,
   "metadata": {},
   "outputs": [],
   "source": [
    "durations = csgo_df.explode(\"losingPlayers\").reset_index()[[\"duration\", \"losingPlayers\"]].rename(columns={\"losingPlayers\": \"SteamID64\"}).merge(players_df)[[\"duration\", \"name\", \"apps\"]]"
   ]
  },
  {
   "attachments": {},
   "cell_type": "markdown",
   "metadata": {},
   "source": [
    "### Players that took the least amount of time to lose"
   ]
  },
  {
   "cell_type": "code",
   "execution_count": 33,
   "metadata": {},
   "outputs": [
    {
     "data": {
      "text/html": [
       "<div>\n",
       "<style scoped>\n",
       "    .dataframe tbody tr th:only-of-type {\n",
       "        vertical-align: middle;\n",
       "    }\n",
       "\n",
       "    .dataframe tbody tr th {\n",
       "        vertical-align: top;\n",
       "    }\n",
       "\n",
       "    .dataframe thead th {\n",
       "        text-align: right;\n",
       "    }\n",
       "</style>\n",
       "<table border=\"1\" class=\"dataframe\">\n",
       "  <thead>\n",
       "    <tr style=\"text-align: right;\">\n",
       "      <th></th>\n",
       "      <th>duration</th>\n",
       "      <th>apps</th>\n",
       "    </tr>\n",
       "    <tr>\n",
       "      <th>name</th>\n",
       "      <th></th>\n",
       "      <th></th>\n",
       "    </tr>\n",
       "  </thead>\n",
       "  <tbody>\n",
       "    <tr>\n",
       "      <th>Ex6TenZ</th>\n",
       "      <td>72.124060</td>\n",
       "      <td>28.0</td>\n",
       "    </tr>\n",
       "    <tr>\n",
       "      <th>FeTiSh[MB]</th>\n",
       "      <td>74.493878</td>\n",
       "      <td>28.0</td>\n",
       "    </tr>\n",
       "    <tr>\n",
       "      <th>seang@res</th>\n",
       "      <td>74.740642</td>\n",
       "      <td>35.0</td>\n",
       "    </tr>\n",
       "    <tr>\n",
       "      <th>Skadoodle</th>\n",
       "      <td>74.756250</td>\n",
       "      <td>25.0</td>\n",
       "    </tr>\n",
       "    <tr>\n",
       "      <th>Spiidi</th>\n",
       "      <td>75.237537</td>\n",
       "      <td>24.0</td>\n",
       "    </tr>\n",
       "    <tr>\n",
       "      <th>SmithZz</th>\n",
       "      <td>75.835938</td>\n",
       "      <td>48.0</td>\n",
       "    </tr>\n",
       "    <tr>\n",
       "      <th>shroud</th>\n",
       "      <td>76.576826</td>\n",
       "      <td>29.0</td>\n",
       "    </tr>\n",
       "    <tr>\n",
       "      <th>Cloud9 CS seM &lt;ALIENware&gt;</th>\n",
       "      <td>76.818182</td>\n",
       "      <td>28.0</td>\n",
       "    </tr>\n",
       "    <tr>\n",
       "      <th>ScreaM</th>\n",
       "      <td>76.942857</td>\n",
       "      <td>34.0</td>\n",
       "    </tr>\n",
       "    <tr>\n",
       "      <th>twist</th>\n",
       "      <td>77.463710</td>\n",
       "      <td>21.0</td>\n",
       "    </tr>\n",
       "    <tr>\n",
       "      <th>denis</th>\n",
       "      <td>77.868922</td>\n",
       "      <td>33.0</td>\n",
       "    </tr>\n",
       "    <tr>\n",
       "      <th>starix</th>\n",
       "      <td>78.406040</td>\n",
       "      <td>26.0</td>\n",
       "    </tr>\n",
       "    <tr>\n",
       "      <th>nex</th>\n",
       "      <td>78.424242</td>\n",
       "      <td>33.0</td>\n",
       "    </tr>\n",
       "    <tr>\n",
       "      <th>Happy</th>\n",
       "      <td>78.640401</td>\n",
       "      <td>64.0</td>\n",
       "    </tr>\n",
       "    <tr>\n",
       "      <th>cajunb</th>\n",
       "      <td>78.898574</td>\n",
       "      <td>57.0</td>\n",
       "    </tr>\n",
       "    <tr>\n",
       "      <th>MSL</th>\n",
       "      <td>79.038217</td>\n",
       "      <td>26.0</td>\n",
       "    </tr>\n",
       "    <tr>\n",
       "      <th>Maikelele</th>\n",
       "      <td>79.119114</td>\n",
       "      <td>35.0</td>\n",
       "    </tr>\n",
       "    <tr>\n",
       "      <th>jdm64</th>\n",
       "      <td>79.311953</td>\n",
       "      <td>26.0</td>\n",
       "    </tr>\n",
       "    <tr>\n",
       "      <th>n0thing</th>\n",
       "      <td>79.394366</td>\n",
       "      <td>49.0</td>\n",
       "    </tr>\n",
       "    <tr>\n",
       "      <th>LDLC.com Maniac Cooler Master</th>\n",
       "      <td>79.416974</td>\n",
       "      <td>26.0</td>\n",
       "    </tr>\n",
       "    <tr>\n",
       "      <th>Hiko</th>\n",
       "      <td>79.426945</td>\n",
       "      <td>48.0</td>\n",
       "    </tr>\n",
       "    <tr>\n",
       "      <th>aizy</th>\n",
       "      <td>79.796330</td>\n",
       "      <td>46.0</td>\n",
       "    </tr>\n",
       "    <tr>\n",
       "      <th>NBK-</th>\n",
       "      <td>80.559064</td>\n",
       "      <td>79.0</td>\n",
       "    </tr>\n",
       "    <tr>\n",
       "      <th>sergej</th>\n",
       "      <td>80.672489</td>\n",
       "      <td>22.0</td>\n",
       "    </tr>\n",
       "    <tr>\n",
       "      <th>Aerial</th>\n",
       "      <td>80.672489</td>\n",
       "      <td>22.0</td>\n",
       "    </tr>\n",
       "    <tr>\n",
       "      <th>xseveN</th>\n",
       "      <td>80.672489</td>\n",
       "      <td>22.0</td>\n",
       "    </tr>\n",
       "    <tr>\n",
       "      <th>allu</th>\n",
       "      <td>80.987362</td>\n",
       "      <td>55.0</td>\n",
       "    </tr>\n",
       "    <tr>\n",
       "      <th>steel</th>\n",
       "      <td>81.017595</td>\n",
       "      <td>28.0</td>\n",
       "    </tr>\n",
       "    <tr>\n",
       "      <th>RpK</th>\n",
       "      <td>81.076419</td>\n",
       "      <td>35.0</td>\n",
       "    </tr>\n",
       "    <tr>\n",
       "      <th>pronax</th>\n",
       "      <td>81.532138</td>\n",
       "      <td>70.0</td>\n",
       "    </tr>\n",
       "  </tbody>\n",
       "</table>\n",
       "</div>"
      ],
      "text/plain": [
       "                                duration  apps\n",
       "name                                          \n",
       "Ex6TenZ                        72.124060  28.0\n",
       "FeTiSh[MB]                     74.493878  28.0\n",
       "seang@res                      74.740642  35.0\n",
       "Skadoodle                      74.756250  25.0\n",
       "Spiidi                         75.237537  24.0\n",
       "SmithZz                        75.835938  48.0\n",
       "shroud                         76.576826  29.0\n",
       "Cloud9 CS seM <ALIENware>      76.818182  28.0\n",
       "ScreaM                         76.942857  34.0\n",
       "twist                          77.463710  21.0\n",
       "denis                          77.868922  33.0\n",
       "starix                         78.406040  26.0\n",
       "nex                            78.424242  33.0\n",
       "Happy                          78.640401  64.0\n",
       "cajunb                         78.898574  57.0\n",
       "MSL                            79.038217  26.0\n",
       "Maikelele                      79.119114  35.0\n",
       "jdm64                          79.311953  26.0\n",
       "n0thing                        79.394366  49.0\n",
       "LDLC.com Maniac Cooler Master  79.416974  26.0\n",
       "Hiko                           79.426945  48.0\n",
       "aizy                           79.796330  46.0\n",
       "NBK-                           80.559064  79.0\n",
       "sergej                         80.672489  22.0\n",
       "Aerial                         80.672489  22.0\n",
       "xseveN                         80.672489  22.0\n",
       "allu                           80.987362  55.0\n",
       "steel                          81.017595  28.0\n",
       "RpK                            81.076419  35.0\n",
       "pronax                         81.532138  70.0"
      ]
     },
     "execution_count": 33,
     "metadata": {},
     "output_type": "execute_result"
    }
   ],
   "source": [
    "durations.loc[durations['apps'] > 20 ].groupby('name').agg(list).applymap(np.mean).sort_values(by='duration').head(30)"
   ]
  },
  {
   "attachments": {},
   "cell_type": "markdown",
   "metadata": {},
   "source": [
    "### Players that took the most amount of time to lose"
   ]
  },
  {
   "cell_type": "code",
   "execution_count": 34,
   "metadata": {},
   "outputs": [
    {
     "data": {
      "text/html": [
       "<div>\n",
       "<style scoped>\n",
       "    .dataframe tbody tr th:only-of-type {\n",
       "        vertical-align: middle;\n",
       "    }\n",
       "\n",
       "    .dataframe tbody tr th {\n",
       "        vertical-align: top;\n",
       "    }\n",
       "\n",
       "    .dataframe thead th {\n",
       "        text-align: right;\n",
       "    }\n",
       "</style>\n",
       "<table border=\"1\" class=\"dataframe\">\n",
       "  <thead>\n",
       "    <tr style=\"text-align: right;\">\n",
       "      <th></th>\n",
       "      <th>duration</th>\n",
       "      <th>apps</th>\n",
       "    </tr>\n",
       "    <tr>\n",
       "      <th>name</th>\n",
       "      <th></th>\n",
       "      <th></th>\n",
       "    </tr>\n",
       "  </thead>\n",
       "  <tbody>\n",
       "    <tr>\n",
       "      <th>fame</th>\n",
       "      <td>105.787456</td>\n",
       "      <td>25.0</td>\n",
       "    </tr>\n",
       "    <tr>\n",
       "      <th>FL1T</th>\n",
       "      <td>105.079918</td>\n",
       "      <td>40.0</td>\n",
       "    </tr>\n",
       "    <tr>\n",
       "      <th>Qikert</th>\n",
       "      <td>103.323138</td>\n",
       "      <td>60.0</td>\n",
       "    </tr>\n",
       "    <tr>\n",
       "      <th>Jame</th>\n",
       "      <td>103.323138</td>\n",
       "      <td>60.0</td>\n",
       "    </tr>\n",
       "    <tr>\n",
       "      <th>buster</th>\n",
       "      <td>101.956190</td>\n",
       "      <td>39.0</td>\n",
       "    </tr>\n",
       "    <tr>\n",
       "      <th>YEKINDAR</th>\n",
       "      <td>99.726166</td>\n",
       "      <td>39.0</td>\n",
       "    </tr>\n",
       "    <tr>\n",
       "      <th>Boombl4</th>\n",
       "      <td>98.124542</td>\n",
       "      <td>25.0</td>\n",
       "    </tr>\n",
       "    <tr>\n",
       "      <th>oSee</th>\n",
       "      <td>96.766551</td>\n",
       "      <td>23.0</td>\n",
       "    </tr>\n",
       "    <tr>\n",
       "      <th>b1t</th>\n",
       "      <td>96.187500</td>\n",
       "      <td>37.0</td>\n",
       "    </tr>\n",
       "    <tr>\n",
       "      <th>Perfecto</th>\n",
       "      <td>96.187500</td>\n",
       "      <td>37.0</td>\n",
       "    </tr>\n",
       "    <tr>\n",
       "      <th>sh1ro</th>\n",
       "      <td>95.894737</td>\n",
       "      <td>21.0</td>\n",
       "    </tr>\n",
       "    <tr>\n",
       "      <th>Ax1Le</th>\n",
       "      <td>95.894737</td>\n",
       "      <td>21.0</td>\n",
       "    </tr>\n",
       "    <tr>\n",
       "      <th>nafany</th>\n",
       "      <td>95.894737</td>\n",
       "      <td>21.0</td>\n",
       "    </tr>\n",
       "    <tr>\n",
       "      <th>dexter</th>\n",
       "      <td>95.310976</td>\n",
       "      <td>27.0</td>\n",
       "    </tr>\n",
       "    <tr>\n",
       "      <th>electroNic</th>\n",
       "      <td>95.112000</td>\n",
       "      <td>64.0</td>\n",
       "    </tr>\n",
       "    <tr>\n",
       "      <th>Patsi</th>\n",
       "      <td>94.864151</td>\n",
       "      <td>22.0</td>\n",
       "    </tr>\n",
       "    <tr>\n",
       "      <th>magixx</th>\n",
       "      <td>94.864151</td>\n",
       "      <td>22.0</td>\n",
       "    </tr>\n",
       "    <tr>\n",
       "      <th>S1ren</th>\n",
       "      <td>94.864151</td>\n",
       "      <td>22.0</td>\n",
       "    </tr>\n",
       "    <tr>\n",
       "      <th>frozen</th>\n",
       "      <td>94.081264</td>\n",
       "      <td>34.0</td>\n",
       "    </tr>\n",
       "    <tr>\n",
       "      <th>HObbit</th>\n",
       "      <td>93.940520</td>\n",
       "      <td>43.0</td>\n",
       "    </tr>\n",
       "    <tr>\n",
       "      <th>JaCkz</th>\n",
       "      <td>93.207595</td>\n",
       "      <td>31.0</td>\n",
       "    </tr>\n",
       "    <tr>\n",
       "      <th>NAF</th>\n",
       "      <td>93.167702</td>\n",
       "      <td>49.0</td>\n",
       "    </tr>\n",
       "    <tr>\n",
       "      <th>chopper</th>\n",
       "      <td>93.000000</td>\n",
       "      <td>24.0</td>\n",
       "    </tr>\n",
       "    <tr>\n",
       "      <th>s1mple</th>\n",
       "      <td>92.880081</td>\n",
       "      <td>85.0</td>\n",
       "    </tr>\n",
       "    <tr>\n",
       "      <th>Gratisfaction</th>\n",
       "      <td>92.879859</td>\n",
       "      <td>23.0</td>\n",
       "    </tr>\n",
       "    <tr>\n",
       "      <th>Liazz</th>\n",
       "      <td>92.879859</td>\n",
       "      <td>23.0</td>\n",
       "    </tr>\n",
       "    <tr>\n",
       "      <th>nexa</th>\n",
       "      <td>92.528000</td>\n",
       "      <td>27.0</td>\n",
       "    </tr>\n",
       "    <tr>\n",
       "      <th>AdreN</th>\n",
       "      <td>92.460114</td>\n",
       "      <td>61.0</td>\n",
       "    </tr>\n",
       "    <tr>\n",
       "      <th>huNter</th>\n",
       "      <td>92.393162</td>\n",
       "      <td>38.0</td>\n",
       "    </tr>\n",
       "    <tr>\n",
       "      <th>TeSeS</th>\n",
       "      <td>92.276364</td>\n",
       "      <td>48.0</td>\n",
       "    </tr>\n",
       "  </tbody>\n",
       "</table>\n",
       "</div>"
      ],
      "text/plain": [
       "                 duration  apps\n",
       "name                           \n",
       "fame           105.787456  25.0\n",
       "FL1T           105.079918  40.0\n",
       "Qikert         103.323138  60.0\n",
       "Jame           103.323138  60.0\n",
       "buster         101.956190  39.0\n",
       "YEKINDAR        99.726166  39.0\n",
       "Boombl4         98.124542  25.0\n",
       "oSee            96.766551  23.0\n",
       "b1t             96.187500  37.0\n",
       "Perfecto        96.187500  37.0\n",
       "sh1ro           95.894737  21.0\n",
       "Ax1Le           95.894737  21.0\n",
       "nafany          95.894737  21.0\n",
       "dexter          95.310976  27.0\n",
       "electroNic      95.112000  64.0\n",
       "Patsi           94.864151  22.0\n",
       "magixx          94.864151  22.0\n",
       "S1ren           94.864151  22.0\n",
       "frozen          94.081264  34.0\n",
       "HObbit          93.940520  43.0\n",
       "JaCkz           93.207595  31.0\n",
       "NAF             93.167702  49.0\n",
       "chopper         93.000000  24.0\n",
       "s1mple          92.880081  85.0\n",
       "Gratisfaction   92.879859  23.0\n",
       "Liazz           92.879859  23.0\n",
       "nexa            92.528000  27.0\n",
       "AdreN           92.460114  61.0\n",
       "huNter          92.393162  38.0\n",
       "TeSeS           92.276364  48.0"
      ]
     },
     "execution_count": 34,
     "metadata": {},
     "output_type": "execute_result"
    }
   ],
   "source": [
    "durations.loc[durations['apps'] > 20 ].groupby('name').agg(list).applymap(np.mean).sort_values(by='duration', ascending=False).head(30)"
   ]
  }
 ],
 "metadata": {
  "kernelspec": {
   "display_name": ".venv",
   "language": "python",
   "name": "python3"
  },
  "language_info": {
   "codemirror_mode": {
    "name": "ipython",
    "version": 3
   },
   "file_extension": ".py",
   "mimetype": "text/x-python",
   "name": "python",
   "nbconvert_exporter": "python",
   "pygments_lexer": "ipython3",
   "version": "3.10.6"
  },
  "orig_nbformat": 4,
  "vscode": {
   "interpreter": {
    "hash": "90b14d19ac941b94464ea1b337777ce55ed4a5f44152693c3cbbd3e0323e34aa"
   }
  }
 },
 "nbformat": 4,
 "nbformat_minor": 2
}
